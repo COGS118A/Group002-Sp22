{
  "cells": [
    {
      "cell_type": "markdown",
      "metadata": {
        "id": "jejOMiGDypCS"
      },
      "source": [
        "# COGS 118A- Project Proposal"
      ]
    },
    {
      "cell_type": "markdown",
      "metadata": {
        "id": "CfB7uzbwypCU"
      },
      "source": [
        "# Names\n",
        "- Aryaman \"The Audacity\" Sinha\n",
        "- Bridget \"Birds\" Egan\n",
        "- John \"Ya Like Jazz?\" Pyjar\n",
        "- Alex \"Apache Server\" Tyler\n"
      ]
    },
    {
      "cell_type": "markdown",
      "metadata": {
        "id": "6ilzGMSrypCa"
      },
      "source": [
        "# Abstract\n",
        "\n",
        "**Using a dataset of thousands of chess games, with data including opening move, length of book-approved opening sequence, elo rating of both players, game outcome, and time of the game, we hope to predict the number of turns in a game of chess. Primarily, we will conduct the relevant data wrangling, build a model that will use the previously stated factors to predict game turns using a linear regression model, and then perform some tweaking of the model to improve its outcome. Since we are doing a prediction of continous numbers and not categories, we are going to measure success by doing a training set, test set, and validation set, and scoring our model by how far away it is. Finally, we can create games of our own, and test our algorithm on data that we create with our own chess games.** "
      ]
    },
    {
      "cell_type": "markdown",
      "metadata": {
        "id": "wEFcLa2NypCb"
      },
      "source": [
        "# Background\n",
        "\n",
        "Chess has debatably been the single most popular test subject for the fields of machine learning and artificial intelligence. The game famously put AI on the map with IBM's \"Deep Blue\" program that managed to best the world champion Garry Kasparov in 1997. And as ML techniques have become more sophisticated and chess has gotten digitized, ML engineers of course keep returning to chess to create more algorithms for the game.\n",
        "\n",
        "Lichess is one of the most popular online chess websites and our dataset is from games played on it. The most common metric used in chess to rate players is the ELO rating which is based on a relative scale\n",
        "<a name=\"elo\"></a>[<sup>[1]</sup>](#cite_note-1). Lichess uses a slightly modified version of the official FIDE ELO system wherein the median rating is 1500 so any new account starts off at that rating<a name=\"elo2\"></a>[<sup>[2]</sup>](#cite_note-2). \n",
        "An opening in a chess game is defined as the phase where the initial moves are made. Usually the position on the board after the first 2-4 moves has been studied extensively and is considered theory. Each such opening has a name which is one of the features of the dataset. The data also features the number of turns the opening lasted. Exactly defining where the opening phase ends is a matter of subjectivity but the way the dataset quantifies this is by considering the first \"out of theory\" or \"non-book\" move as the end of the opening. \n",
        "Modern chess is almost always played with time constraints. A 10+3 time constraint implies that each player gets 10 minutes to make all their moves and at the end of each turn they get an additional 3 seconds. Running out of time is one of 4 ways to end a chess game along with Resignation(which is where the losing player forfeits the game), Checkmate(duh), and a Draw.\n",
        "\n",
        "Most of the prior AI work in the chess field is targetted towards building better engines that can find the best move in a position and also quantifiably analyzing the position on the board<a name=\"3\"></a>[<sup>[3]</sup>](#cite_note-3). There are some prediction models for the outcome of a game<a name=\"4\"></a>[<sup>[4]</sup>](#cite_note-4)  but not much well-documented research into the number of turns a game lasts."
      ]
    },
    {
      "cell_type": "markdown",
      "metadata": {
        "id": "PSA0oFEpypCb"
      },
      "source": [
        "# Problem Statement\n",
        "\n",
        "We are attempting to predict the length of a given chess game with the variables of both players elo rating, white's starting move, game time, and game outcome. "
      ]
    },
    {
      "cell_type": "markdown",
      "metadata": {
        "id": "TvNWbnKrypCb"
      },
      "source": [
        "# Data\n",
        "\n",
        "The dataset that we plan on using can be obtained [here](https://www.kaggle.com/datasets/datasnaek/chess). This Chess dataset features over 20,000 different chess games collected from the website [lichess.org](https://lichess.org/). There are a total of 16 different variables in the dataset, with most being relevant to understanding a game of chess and its outcome. Each observation in the dataset is a single game of chess, containing the outcome along with important information such as what type of opening was performed, the length of the match, and the number of turns just to name a few. As of right now, we do not envision any special handling or cleaning that will be needed for the dataset. This is obviously subject to change once we start working with the set, but for right now we are planning on doing standard cleaning (such as dropping non-significant columns)."
      ]
    },
    {
      "cell_type": "markdown",
      "metadata": {
        "id": "D0Jiqyf7ypCc"
      },
      "source": [
        "# Proposed Solution\n",
        "\n",
        "Given the continuous nature of the predicted value, our project will be using a linear regression model and a KNN approach. We are going to vectorize the opening data by one-hot encoding the strings of the 30 most common openings. Using those, and the numerical data of the other features, we will perform lineear regression for the continuous data, and then categorize the continuous data into increments of 5 to use KNN to see which performs better. We will use $R^{2}$ error to see how well our model performs for the linear regression. There doesn't appear to be a \"standard\" model we can directly reference our model with - many have tackled predicting the outcomes of chess games or what the most optimal moves are for given situations, but the inputs and outputs of our prediction goal are unique to this project."
      ]
    },
    {
      "cell_type": "markdown",
      "metadata": {
        "id": "ZoYXLtawypCc"
      },
      "source": [
        "# Evaluation Metrics\n",
        "\n",
        "Given the way we are setting up the data to be learned from (splitting a random portion to be assigned to training and test data), we are going to be evaluating the data on how well it does compared to the test data. For linear regression, our evaluation metric will $R^2$. For the k nearest neighbors, we will compare the amount of correct labels to incorrect labels. Although as we delve deeper into the data and start working on our models, we may decide to use different metrics that suit our use case better, but this is what we are planning on for now."
      ]
    },
    {
      "cell_type": "markdown",
      "metadata": {
        "id": "ASm2M-59ypCc"
      },
      "source": [
        "# Ethics & Privacy"
      ]
    },
    {
      "cell_type": "markdown",
      "metadata": {
        "id": "SLxYjua3ypCd"
      },
      "source": [
        "One potential privacy issue with this project lies in the way the data is collected. This is true for all web-scrape type data, but we essentially use harvested user data, complete with usernames and other user information, from which the users have not explicitly agreed to our (or any other programmer's) direct usage of, apart from the general agreements of Lichess's Terms of Service. These data entries include a data and time for each and every game played, so it is a little troubling that we have (reductively) a record of what these players were doing at a given time on a given day.\n",
        "  \n",
        "  It should also be noted that the majority of new-age chess players learn by playing different AI chess \"bots\". The implication of this is that whatever outcomes these programs find preferable directly influence what the most common options will be for real human chess players. Whether this fact is unethical in itself is up for debate, but it's undeniable that AI programs have computationalized and flow-charted the game of chess pretty irreversibly.\n",
        "\n",
        "\n"
      ]
    },
    {
      "cell_type": "markdown",
      "metadata": {
        "id": "yYBrm07YypCd"
      },
      "source": [
        "# Team Expectations "
      ]
    },
    {
      "cell_type": "markdown",
      "metadata": {
        "id": "hVujnR12ypCd"
      },
      "source": [
        "Put things here that cement how you will interact/communicate as a team, how you will handle conflict and difficulty, how you will handle making decisions and setting goals/schedule, how much work you expect from each other, how you will handle deadlines, etc...\n",
        "* Have a learner's mindset.\n",
        "* Have a mentor's mindset.\n",
        "* If another team member's work depends on the completion of yours, finish your portion 5 days to a week before the checkpoint is due.\n",
        "* All decisions must be unanimous. (There's only 4 of us, so.)\n",
        "* Attend all meetings, and if you can't, get filled in later."
      ]
    },
    {
      "cell_type": "markdown",
      "metadata": {
        "id": "VxKCJo3vypCd"
      },
      "source": [
        "# Project Timeline Proposal"
      ]
    },
    {
      "cell_type": "markdown",
      "metadata": {
        "id": "3tU7Nh9SypCd"
      },
      "source": [
        "\"*No battle plan survives contact with the enemy\"*, *but you need a battle plan nonetheless.*\n",
        "\n",
        "\n",
        "| Meeting Date  | Meeting Time| Completed Before Meeting  | Discuss at Meeting |\n",
        "|---|---|---|---|\n",
        "| 4/13 |  8 PM |  Brainstorm topics/questions  | Determine best form of communication; Look through datasets and topics in a group brainstorm | \n",
        "| 4/19 |  8 PM |  Look into ideal topics  | Discuss and decide on final project topic; discuss hypothesis; begin background research | \n",
        "| 4/23 |  11 PM | Be done with Project Proposal  | By discord-assigned sections, turn in| \n",
        "| 5/12  | 8 PM  | Have worked on sections of checkpoint extensively  | Discuss possible conflicting elements of members' work, ask questions, finalize the checkpoint   |\n",
        "| 5/24  | 8 PM  | Import & Wrangle Data ,do some EDA| Review/Edit wrangling/EDA; Discuss Analysis Plan   |\n",
        "| 6/2 | 8 PM  | Finalize wrangling/EDA; Any work that later steps are dependent on must be completed.| Discuss/edit project code, ask questions.  |\n",
        "| 6/6 | 8 PM  | Complete analysis; Draft results/conclusion/discussion| Discuss/edit full project |\n",
        "| 6/8  | Before 11:59 PM  | Everything | Turn in Final Project  |"
      ]
    },
    {
      "cell_type": "markdown",
      "metadata": {
        "id": "pMpOgnVeypCe"
      },
      "source": [
        "# Footnotes\n",
        "<a name=\"elo\"></a>1.[^](#lorenz): ELO Rating Chess. https://www.chess.com/terms/elo-rating-chess<br> \n",
        "<a name=\"elo2\"></a>2.[^](#admonish): Lichess rating system. https://lichess.org/page/rating-systems#:~:text=Lichess%20ratings%20start%20at%201500,as%20FIDE%20or%20chess.com.<br>\n",
        "<a name=\"research\"></a>3.[^](#sota): Chess Research: https://towardsdatascience.com/predicting-professional-players-chess-moves-with-deep-learning-9de6e305109e<br>\n",
        "<a name=\"4\"></a>4.[^](#sota): Outcome of a game: https://cs229.stanford.edu/proj2013/FanKuangLin-ChessGameResultPredictionSystem.pdf\n",
        "\n"
      ]
    },
    {
      "cell_type": "code",
      "execution_count": null,
      "metadata": {
        "id": "WbXFkiawypCe"
      },
      "outputs": [],
      "source": [
        ""
      ]
    }
  ],
  "metadata": {
    "kernelspec": {
      "display_name": "Python 3",
      "language": "python",
      "name": "python3"
    },
    "language_info": {
      "codemirror_mode": {
        "name": "ipython",
        "version": 3
      },
      "file_extension": ".py",
      "mimetype": "text/x-python",
      "name": "python",
      "nbconvert_exporter": "python",
      "pygments_lexer": "ipython3",
      "version": "3.7.1"
    },
    "colab": {
      "name": "ProposalGroup002-Sp22.ipynb",
      "provenance": [],
      "collapsed_sections": []
    }
  },
  "nbformat": 4,
  "nbformat_minor": 0
}