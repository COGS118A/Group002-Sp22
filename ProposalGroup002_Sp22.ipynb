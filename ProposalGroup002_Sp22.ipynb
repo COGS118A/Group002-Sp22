{
  "cells": [
    {
      "cell_type": "markdown",
      "metadata": {
        "id": "view-in-github",
        "colab_type": "text"
      },
      "source": [
        "<a href=\"https://colab.research.google.com/github/bridge-exe/Group002-Sp22-f/blob/main/ProposalGroup002_Sp22.ipynb\" target=\"_parent\"><img src=\"https://colab.research.google.com/assets/colab-badge.svg\" alt=\"Open In Colab\"/></a>"
      ]
    },
    {
      "cell_type": "markdown",
      "metadata": {
        "id": "jejOMiGDypCS"
      },
      "source": [
        "# COGS 118A- Project Proposal"
      ]
    },
    {
      "cell_type": "markdown",
      "metadata": {
        "id": "UXJ54ODvypCT"
      },
      "source": [
        "# Project Description\n",
        "\n",
        "You will design and execute a machine learning project. There are a few constraints on the nature of the allowed project. \n",
        "- The problem addressed will not be a \"toy problem\" or \"common training students problem\" like mtcars, iris, palmer penguins etc.\n",
        "- The dataset will have >1k observations and >5 variables. I'd prefer more like >10k observations and >10 variables. A general rule is that if you have >100x more observations than variables, your solution will likely generalize a lot better. The goal of training a supervised machine learning model is to learn the underlying pattern in a dataset in order to generalize well to unseen data, so choosing a large dataset is very important.\n",
        "\n",
        "- The project will include a model selection and/or feature selection component where you will be looking for the best setup to maximize the performance of your ML system.\n",
        "- You will evaluate the performance of your ML system using more than one appropriate metric\n",
        "- You will be writing a report describing and discussing these accomplishments\n",
        "\n",
        "\n",
        "Feel free to delete this description section when you hand in your proposal."
      ]
    },
    {
      "cell_type": "markdown",
      "metadata": {
        "id": "GVbVsqegypCU"
      },
      "source": [
        "### Peer Review\n",
        "\n",
        "You will all have an opportunity to look at the Project Proposals of other groups to fuel your creativity and get more ideas for how you can improve your own projects. \n",
        "\n",
        "Both the project proposal and project checkpoint will have peer review."
      ]
    },
    {
      "cell_type": "markdown",
      "metadata": {
        "id": "CfB7uzbwypCU"
      },
      "source": [
        "# Names\n",
        "\n",
        "Hopefully your team is at least this good. Obviously you should replace these with your names.\n",
        "\n",
        "- Aryaman \"The Audacity\" Sinha\n",
        "- Bridget \"Linguistics\" Egan\n",
        "- John \"Ya Like Jazz?\" Pyjar\n",
        "- Alex \"Apache Server\" Tyler\n"
      ]
    },
    {
      "cell_type": "markdown",
      "metadata": {
        "id": "6ilzGMSrypCa"
      },
      "source": [
        "# Abstract\n",
        "\n",
        "**Using a dataset of thousands of chess games, with data including opening move, length of book-approved opening sequence, elo rating of both players, game outcome, and time of the game, we hope to predict the number of turns in a game of chess. Primarily, we will conduct the relevant data wrangling, build a model that will use the previously stated factors to predict game turns using a linear regression model, and then perform some tweaking of the model to improve its outcome. Since we are doing a prediction of continous numbers and not categories, we are going to measure success by doing a training set, test set, and validation set, and scoring our model by how far away it is. Finally, we can create games of our own, and test our algorithm on data that we create with our own chess games.** "
      ]
    },
    {
      "cell_type": "markdown",
      "metadata": {
        "id": "wEFcLa2NypCb"
      },
      "source": [
        "# Background\n",
        "\n",
        "Lichess, Elo, Chess, openings, chess time, time increments, explaion Opening Ply \n",
        "\n",
        "Chess has debatably been the single most popular test subject for the fields of machine learning and artificial intelligence. The game famously put AI on the map with IBM's \"Deep Blue\" program that managed to best the world champion Garry Kasparov in 1997. And as ML techniques have become more sophisticated and chess has gotten digitized, ML engineers of course keep returning to chess to create more algorithms for the game."
      ]
    },
    {
      "cell_type": "markdown",
      "metadata": {
        "id": "PSA0oFEpypCb"
      },
      "source": [
        "# Problem Statement\n",
        "\n",
        "We are attempting to predict the length of a given chess game with the variables of both players elo rating, white's starting move, game time, and game outcome. Given the continuous nature of the predicted value, our project will be using a linear regression model and a KNN approach. We are going to vectorize the opening data by one-hot encoding the strings of the 30 most common openings. Using those, and the numerical data of the other features, we will perform lineear regression for the continuous data, and then categorize the continuous data into increments of 5 to use KNN to see which performs better. We will use $R^{2}$ error to see how well our model performs for the linear regression "
      ]
    },
    {
      "cell_type": "markdown",
      "metadata": {
        "id": "TvNWbnKrypCb"
      },
      "source": [
        "# Data\n",
        "\n",
        "The dataset that we plan on using can be obtained [here](https://www.kaggle.com/datasets/datasnaek/chess). This Chess dataset features over 20,000 different chess games collected from the website [lichess.org](https://lichess.org/). There are a total of 16 different variables in the dataset, with most being relevant to understanding a game of chess and its outcome. Each observation in the dataset is a single game of chess, containing the outcome along with important information such as what type of opening was performed, the length of the match, and the number of turns just to name a few. As of right now, we do not envision any special handling or cleaning that will be needed for the dataset. This is obviously subject to change once we start working with the set, but for right now we are planning on doing standard cleaning (such as dropping non-significant columns)."
      ]
    },
    {
      "cell_type": "markdown",
      "metadata": {
        "id": "D0Jiqyf7ypCc"
      },
      "source": [
        "# Proposed Solution\n",
        "\n",
        "In this section, clearly describe a solution to the problem. The solution should be applicable to the project domain and appropriate for the dataset(s) or input(s) given. Provide enough detail (e.g., algorithmic description and/or theoretical properties) to convince us that your solution is applicable. Make sure to describe how the solution will be tested.  \n",
        "\n",
        "If you know details already, describe how (e.g., library used, function calls) you plan to implement the solution in a way that is reproducible.\n",
        "\n",
        "If it is appropriate to the problem statement, describe a benchmark model<a name=\"sota\"></a>[<sup>[3]</sup>](#sotanote) against which your solution will be compared. \n",
        "\n",
        "\n"
      ]
    },
    {
      "cell_type": "markdown",
      "metadata": {
        "id": "ZoYXLtawypCc"
      },
      "source": [
        "# Evaluation Metrics\n",
        "\n",
        "Propose at least one evaluation metric that can be used to quantify the performance of both the benchmark model and the solution model. The evaluation metric(s) you propose should be appropriate given the context of the data, the problem statement, and the intended solution. Describe how the evaluation metric(s) are derived and provide an example of their mathematical representations (if applicable). Complex evaluation metrics should be clearly defined and quantifiable (can be expressed in mathematical or logical terms)."
      ]
    },
    {
      "cell_type": "markdown",
      "metadata": {
        "id": "ASm2M-59ypCc"
      },
      "source": [
        "# Ethics & Privacy"
      ]
    },
    {
      "cell_type": "markdown",
      "metadata": {
        "id": "SLxYjua3ypCd"
      },
      "source": [
        "One potential privacy issue with this project lies in the way the data is collected. This is true for all web-scrape type data, but we essentially use harvested user data, complete with usernames and other user information, from which the users have not explicitly agreed to our (or any other programmer's) direct usage of. These data entries include a data and time for each and every game played, so it is a little troubling that we have (reductively) a record of what these players were doing at a given time on a given day.\n",
        "  \n",
        "  It should also be noted that the majority of new-age chess players learn by playing different AI chess \"bots\". The implication of this is that whatever outcomes these programs find preferable directly influence what the most common options will be for real human chess players. Whether this fact is unethical in itself is up for debate, but it's undeniable that AI programs have computationalized and flow-charted the game of chess pretty irreversibly.\n",
        "\n",
        "\n"
      ]
    },
    {
      "cell_type": "markdown",
      "metadata": {
        "id": "yYBrm07YypCd"
      },
      "source": [
        "# Team Expectations "
      ]
    },
    {
      "cell_type": "markdown",
      "metadata": {
        "id": "hVujnR12ypCd"
      },
      "source": [
        "Put things here that cement how you will interact/communicate as a team, how you will handle conflict and difficulty, how you will handle making decisions and setting goals/schedule, how much work you expect from each other, how you will handle deadlines, etc...\n",
        "* Have a learner's mindset.\n",
        "* Have a mentor's mindset.\n",
        "* If another team member's work depends on the completion of yours, finish your portion 5 days to a week before the checkpoint is due.\n",
        "* All decisions must be unanimous. (There's only 4 of us, so.)\n",
        "* Attend all meetings, and if you can't, get filled in later."
      ]
    },
    {
      "cell_type": "markdown",
      "metadata": {
        "id": "VxKCJo3vypCd"
      },
      "source": [
        "# Project Timeline Proposal"
      ]
    },
    {
      "cell_type": "markdown",
      "metadata": {
        "id": "3tU7Nh9SypCd"
      },
      "source": [
        "Replace this with something meaningful that is appropriate for your needs. It doesn't have to be something that fits this format.  It doesn't have to be set in stone... \"no battle plan survives contact with the enemy\". But you need a battle plan nonetheless, and you need to keep it updated so you understand what you are trying to accomplish, who's responsible for what, and what the expected due dates are for each item.\n",
        "\n",
        "| Meeting Date  | Meeting Time| Completed Before Meeting  | Discuss at Meeting |\n",
        "|---|---|---|---|\n",
        "| 4/13 |  8 PM |  Brainstorm topics/questions  | Determine best form of communication; Look through datasets and topics in a group brainstorm | \n",
        "| 4/19 |  8 PM |  Look into ideal topics  | Discuss and decide on final project topic; discuss hypothesis; begin background research | \n",
        "| 5/12  | 8 PM  | Have worked on sections of checkpoint extensively  | Discuss possible conflicting elements of members' work, ask questions, finalize the checkpoint   |\n",
        "| 5/24  | 8 PM  | Import & Wrangle Data ,do some EDA| Review/Edit wrangling/EDA; Discuss Analysis Plan   |\n",
        "| 6/2 | 8 PM  | Finalize wrangling/EDA; Any work that later steps are dependent on must be completed.| Discuss/edit project code, ask questions.  |\n",
        "| 6/6 | 8 PM  | Complete analysis; Draft results/conclusion/discussion| Discuss/edit full project |\n",
        "| 6/8  | Before 11:59 PM  | Everything | Turn in Final Project  |"
      ]
    },
    {
      "cell_type": "markdown",
      "metadata": {
        "id": "pMpOgnVeypCe"
      },
      "source": [
        "# Footnotes\n",
        "<a name=\"lorenznote\"></a>1.[^](#lorenz): Lorenz, T. (9 Dec 2021) Birds Aren’t Real, or Are They? Inside a Gen Z Conspiracy Theory. *The New York Times*. https://www.nytimes.com/2021/12/09/technology/birds-arent-real-gen-z-misinformation.html<br> \n",
        "<a name=\"admonishnote\"></a>2.[^](#admonish): Also refs should be important to the background, not some randomly chosen vaguely related stuff. Include a web link if possible in refs as above.<br>\n",
        "<a name=\"sotanote\"></a>3.[^](#sota): Perhaps the current state of the art solution such as you see on [Papers with code](https://paperswithcode.com/sota). Or maybe not SOTA, but rather a standard textbook/Kaggle solution to this kind of problem\n"
      ]
    },
    {
      "cell_type": "code",
      "execution_count": null,
      "metadata": {
        "id": "WbXFkiawypCe"
      },
      "outputs": [],
      "source": [
        ""
      ]
    }
  ],
  "metadata": {
    "kernelspec": {
      "display_name": "Python 3",
      "language": "python",
      "name": "python3"
    },
    "language_info": {
      "codemirror_mode": {
        "name": "ipython",
        "version": 3
      },
      "file_extension": ".py",
      "mimetype": "text/x-python",
      "name": "python",
      "nbconvert_exporter": "python",
      "pygments_lexer": "ipython3",
      "version": "3.7.1"
    },
    "colab": {
      "name": "ProposalGroup002-Sp22.ipynb",
      "provenance": [],
      "collapsed_sections": [],
      "include_colab_link": true
    }
  },
  "nbformat": 4,
  "nbformat_minor": 0
}