{
  "nbformat": 4,
  "nbformat_minor": 0,
  "metadata": {
    "colab": {
      "name": "ChessNonsense.ipynb",
      "provenance": [],
      "collapsed_sections": [],
      "toc_visible": true
    },
    "kernelspec": {
      "name": "python3",
      "display_name": "Python 3"
    },
    "language_info": {
      "name": "python"
    }
  },
  "cells": [
    {
      "cell_type": "markdown",
      "source": [
        "# Very Abnormal Chess Analysis - COGS118A Project"
      ],
      "metadata": {
        "id": "lQ7Xd_xPoITj"
      }
    },
    {
      "cell_type": "markdown",
      "source": [
        "![picture](https://lh3.googleusercontent.com/lNbxqVFv5U5zL-9qyy9L9wqlhLMVVWQ1UzMSA6UYKIqBkhMbfsOhbhH1p095H6VfZtE=s180)\n",
        "\n",
        "\n"
      ],
      "metadata": {
        "id": "w3uuefqGOtD3"
      }
    },
    {
      "cell_type": "markdown",
      "source": [
        "# Names\n",
        "- Aryaman \"The Audacity\" Sinha\n",
        "- Bridget \"Self-proclaimed Wordle Champion\" Egan\n",
        "- John \"Ya Like Jazz?\" Pyjar\n",
        "- Alex \"Apache Server\" Tyler\n"
      ],
      "metadata": {
        "id": "7y-3TLl7oUsn"
      }
    },
    {
      "cell_type": "markdown",
      "source": [
        "# Abstract\n",
        "\n",
        "Using a dataset of thousands of chess games, with data including opening move, length of book-approved opening sequence, elo rating of both players, game outcome, and time of the game, we predict the number of turns in a game of chess. Primarily, we will conduct the relevant data wrangling, build a model that will use the previously stated factors to predict game turns using a linear regression model, and then perform some tweaking of the model to improve its outcome. We will be enlisting a number of linear regression algorithms to search for the best method of prediction, including Random Forest regression, Stochastic Gradient Descent regression, Gradient Boosting regression, Bayesian Ridge regression, among many others. In doing this, we plan to supplement the extensive research on game outcome prediction - however, this would serve the purposes of time planning in a tournament or livestream environment, rather than the purpose of education."
      ],
      "metadata": {
        "id": "sXD31umLj76f"
      }
    },
    {
      "cell_type": "markdown",
      "source": [
        "# Background\n",
        "\n",
        "Chess has debatably been the single most popular test subject for the fields of machine learning and artificial intelligence. The game famously put AI on the map with IBM's \"Deep Blue\" program that managed to best the world champion Garry Kasparov in 1997. And as ML techniques have become more sophisticated and chess has gotten digitized, ML engineers of course keep returning to chess to create more algorithms for the game.\n",
        "\n",
        "Lichess is one of the most popular online chess websites and our dataset is from games played on it. The most common metric used in chess to rate players is the ELO rating which is based on a relative scale\n",
        "<a name=\"elo\"></a>[<sup>[1]</sup>](#cite_note-1). Lichess uses a slightly modified version of the official FIDE ELO system wherein the median rating is 1500 so any new account starts off at that rating<a name=\"elo2\"></a>[<sup>[2]</sup>](#cite_note-2). \n",
        "An opening in a chess game is defined as the phase where the initial moves are made. Usually the position on the board after the first 2-4 moves has been studied extensively and is considered theory. Each such opening has a name which is one of the features of the dataset. The data also features the number of turns the opening lasted. Exactly defining where the opening phase ends is a matter of subjectivity but the way the dataset quantifies this is by considering the first \"out of theory\" or \"non-book\" move as the end of the opening. \n",
        "Modern chess is almost always played with time constraints. A 10+3 time constraint implies that each player gets 10 minutes to make all their moves and at the end of each turn they get an additional 3 seconds. Running out of time is one of 4 ways to end a chess game along with Resignation(which is where the losing player forfeits the game), Checkmate(duh), and a Draw.\n",
        "\n",
        "Most of the prior AI work in the chess field is targetted towards building better engines that can find the best move in a position and also quantifiably analyzing the position on the board<a name=\"3\"></a>[<sup>[3]</sup>](#cite_note-3). There are some prediction models for the outcome of a game<a name=\"4\"></a>[<sup>[4]</sup>](#cite_note-4)  but not much well-documented research into the number of turns a game lasts."
      ],
      "metadata": {
        "id": "nxOgaVWKkBek"
      }
    },
    {
      "cell_type": "markdown",
      "source": [
        "# Data\n",
        "\n",
        "The dataset that we plan on using can be obtained [here](https://www.kaggle.com/datasets/datasnaek/chess). This Chess dataset features over 20,000 different chess games collected from the website [lichess.org](https://lichess.org/). There are a total of 16 different variables in the dataset, with most being relevant to understanding a game of chess and its outcome. Each observation in the dataset is a single game of chess, containing the outcome along with important information such as what type of opening was performed, the length of the match, and the number of turns just to name a few. As of right now, we do not envision any special handling or cleaning that will be needed for the dataset. This is obviously subject to change once we start working with the set, but for right now we are planning on doing standard cleaning (such as dropping non-significant columns)."
      ],
      "metadata": {
        "id": "ZF53-zrYkFTz"
      }
    },
    {
      "cell_type": "markdown",
      "source": [
        "# Proposed Solution and Evaluation Metrics\n",
        "\n",
        "**Proposed Solution**\n",
        "\n",
        "Given the continuous nature of the predicted value, our project will be focusing on different variants of regression. We are going to vectorize the opening data by one-hot encoding the strings of the 30 most common openings. Using those, and the numerical data of the other features, we will perform regression on the data after we have one hot encoded the openings. There doesn't appear to be a \"standard\" model we can directly reference our model with - many have tackled predicting the outcomes of chess games or what the most optimal moves are for given situations, but the inputs and outputs of our prediction goal are unique to this project.\n",
        "\n",
        "**Evaluation Metrics**\n",
        "\n",
        "Given the way we are setting up the data to be learned from (splitting a random portion to be assigned to training and test data), we are going to be evaluating the data on how well it does compared to the test data. Since we are focusing our models on regression, our evaluation metric will be Mean Squarred Error (MSE)."
      ],
      "metadata": {
        "id": "_pwKVqOskI8H"
      }
    },
    {
      "cell_type": "markdown",
      "source": [
        "#Results"
      ],
      "metadata": {
        "id": "5fSCncmIM6lq"
      }
    },
    {
      "cell_type": "code",
      "execution_count": null,
      "metadata": {
        "id": "BiPLL7oJdNSJ"
      },
      "outputs": [],
      "source": [
        "# Import standard libraries\n",
        "import pandas as pd\n",
        "import numpy as np\n",
        "import matplotlib.pyplot as plt\n",
        "import seaborn as sns"
      ]
    },
    {
      "cell_type": "markdown",
      "source": [
        "## Exploratory Data Analysis & Cleaning"
      ],
      "metadata": {
        "id": "zJobU3YgkMMg"
      }
    },
    {
      "cell_type": "code",
      "source": [
        "all_games = pd.read_csv('https://github.com/COGS118A/Group002-Sp22/raw/main/games.csv')"
      ],
      "metadata": {
        "id": "J99MmWAadjTF"
      },
      "execution_count": null,
      "outputs": []
    },
    {
      "cell_type": "code",
      "source": [
        "all_games.head()"
      ],
      "metadata": {
        "colab": {
          "base_uri": "https://localhost:8080/",
          "height": 1000
        },
        "id": "SkP8_TkjG0MT",
        "outputId": "020ba7fd-3b2e-4978-9217-e5acdbfbbdc3"
      },
      "execution_count": null,
      "outputs": [
        {
          "output_type": "execute_result",
          "data": {
            "text/plain": [
              "         id  rated    created_at  last_move_at  turns victory_status winner  \\\n",
              "0  TZJHLljE  False  1.504210e+12  1.504210e+12     13      outoftime  white   \n",
              "1  l1NXvwaE   True  1.504130e+12  1.504130e+12     16         resign  black   \n",
              "2  mIICvQHh   True  1.504130e+12  1.504130e+12     61           mate  white   \n",
              "3  kWKvrqYL   True  1.504110e+12  1.504110e+12     61           mate  white   \n",
              "4  9tXo1AUZ   True  1.504030e+12  1.504030e+12     95           mate  white   \n",
              "\n",
              "  increment_code       white_id  white_rating      black_id  black_rating  \\\n",
              "0           15+2       bourgris          1500          a-00          1191   \n",
              "1           5+10           a-00          1322     skinnerua          1261   \n",
              "2           5+10         ischia          1496          a-00          1500   \n",
              "3           20+0  daniamurashov          1439  adivanov2009          1454   \n",
              "4           30+3      nik221107          1523  adivanov2009          1469   \n",
              "\n",
              "                                               moves opening_eco  \\\n",
              "0  d4 d5 c4 c6 cxd5 e6 dxe6 fxe6 Nf3 Bb4+ Nc3 Ba5...         D10   \n",
              "1  d4 Nc6 e4 e5 f4 f6 dxe5 fxe5 fxe5 Nxe5 Qd4 Nc6...         B00   \n",
              "2  e4 e5 d3 d6 Be3 c6 Be2 b5 Nd2 a5 a4 c5 axb5 Nc...         C20   \n",
              "3  d4 d5 Nf3 Bf5 Nc3 Nf6 Bf4 Ng4 e3 Nc6 Be2 Qd7 O...         D02   \n",
              "4  e4 e5 Nf3 d6 d4 Nc6 d5 Nb4 a3 Na6 Nc3 Be7 b4 N...         C41   \n",
              "\n",
              "                             opening_name  opening_ply  \n",
              "0        Slav Defense: Exchange Variation            5  \n",
              "1  Nimzowitsch Defense: Kennedy Variation            4  \n",
              "2   King's Pawn Game: Leonardis Variation            3  \n",
              "3  Queen's Pawn Game: Zukertort Variation            3  \n",
              "4                        Philidor Defense            5  "
            ],
            "text/html": [
              "\n",
              "  <div id=\"df-8a047a4f-4c94-4d35-98ad-f7a3e9fe2bc4\">\n",
              "    <div class=\"colab-df-container\">\n",
              "      <div>\n",
              "<style scoped>\n",
              "    .dataframe tbody tr th:only-of-type {\n",
              "        vertical-align: middle;\n",
              "    }\n",
              "\n",
              "    .dataframe tbody tr th {\n",
              "        vertical-align: top;\n",
              "    }\n",
              "\n",
              "    .dataframe thead th {\n",
              "        text-align: right;\n",
              "    }\n",
              "</style>\n",
              "<table border=\"1\" class=\"dataframe\">\n",
              "  <thead>\n",
              "    <tr style=\"text-align: right;\">\n",
              "      <th></th>\n",
              "      <th>id</th>\n",
              "      <th>rated</th>\n",
              "      <th>created_at</th>\n",
              "      <th>last_move_at</th>\n",
              "      <th>turns</th>\n",
              "      <th>victory_status</th>\n",
              "      <th>winner</th>\n",
              "      <th>increment_code</th>\n",
              "      <th>white_id</th>\n",
              "      <th>white_rating</th>\n",
              "      <th>black_id</th>\n",
              "      <th>black_rating</th>\n",
              "      <th>moves</th>\n",
              "      <th>opening_eco</th>\n",
              "      <th>opening_name</th>\n",
              "      <th>opening_ply</th>\n",
              "    </tr>\n",
              "  </thead>\n",
              "  <tbody>\n",
              "    <tr>\n",
              "      <th>0</th>\n",
              "      <td>TZJHLljE</td>\n",
              "      <td>False</td>\n",
              "      <td>1.504210e+12</td>\n",
              "      <td>1.504210e+12</td>\n",
              "      <td>13</td>\n",
              "      <td>outoftime</td>\n",
              "      <td>white</td>\n",
              "      <td>15+2</td>\n",
              "      <td>bourgris</td>\n",
              "      <td>1500</td>\n",
              "      <td>a-00</td>\n",
              "      <td>1191</td>\n",
              "      <td>d4 d5 c4 c6 cxd5 e6 dxe6 fxe6 Nf3 Bb4+ Nc3 Ba5...</td>\n",
              "      <td>D10</td>\n",
              "      <td>Slav Defense: Exchange Variation</td>\n",
              "      <td>5</td>\n",
              "    </tr>\n",
              "    <tr>\n",
              "      <th>1</th>\n",
              "      <td>l1NXvwaE</td>\n",
              "      <td>True</td>\n",
              "      <td>1.504130e+12</td>\n",
              "      <td>1.504130e+12</td>\n",
              "      <td>16</td>\n",
              "      <td>resign</td>\n",
              "      <td>black</td>\n",
              "      <td>5+10</td>\n",
              "      <td>a-00</td>\n",
              "      <td>1322</td>\n",
              "      <td>skinnerua</td>\n",
              "      <td>1261</td>\n",
              "      <td>d4 Nc6 e4 e5 f4 f6 dxe5 fxe5 fxe5 Nxe5 Qd4 Nc6...</td>\n",
              "      <td>B00</td>\n",
              "      <td>Nimzowitsch Defense: Kennedy Variation</td>\n",
              "      <td>4</td>\n",
              "    </tr>\n",
              "    <tr>\n",
              "      <th>2</th>\n",
              "      <td>mIICvQHh</td>\n",
              "      <td>True</td>\n",
              "      <td>1.504130e+12</td>\n",
              "      <td>1.504130e+12</td>\n",
              "      <td>61</td>\n",
              "      <td>mate</td>\n",
              "      <td>white</td>\n",
              "      <td>5+10</td>\n",
              "      <td>ischia</td>\n",
              "      <td>1496</td>\n",
              "      <td>a-00</td>\n",
              "      <td>1500</td>\n",
              "      <td>e4 e5 d3 d6 Be3 c6 Be2 b5 Nd2 a5 a4 c5 axb5 Nc...</td>\n",
              "      <td>C20</td>\n",
              "      <td>King's Pawn Game: Leonardis Variation</td>\n",
              "      <td>3</td>\n",
              "    </tr>\n",
              "    <tr>\n",
              "      <th>3</th>\n",
              "      <td>kWKvrqYL</td>\n",
              "      <td>True</td>\n",
              "      <td>1.504110e+12</td>\n",
              "      <td>1.504110e+12</td>\n",
              "      <td>61</td>\n",
              "      <td>mate</td>\n",
              "      <td>white</td>\n",
              "      <td>20+0</td>\n",
              "      <td>daniamurashov</td>\n",
              "      <td>1439</td>\n",
              "      <td>adivanov2009</td>\n",
              "      <td>1454</td>\n",
              "      <td>d4 d5 Nf3 Bf5 Nc3 Nf6 Bf4 Ng4 e3 Nc6 Be2 Qd7 O...</td>\n",
              "      <td>D02</td>\n",
              "      <td>Queen's Pawn Game: Zukertort Variation</td>\n",
              "      <td>3</td>\n",
              "    </tr>\n",
              "    <tr>\n",
              "      <th>4</th>\n",
              "      <td>9tXo1AUZ</td>\n",
              "      <td>True</td>\n",
              "      <td>1.504030e+12</td>\n",
              "      <td>1.504030e+12</td>\n",
              "      <td>95</td>\n",
              "      <td>mate</td>\n",
              "      <td>white</td>\n",
              "      <td>30+3</td>\n",
              "      <td>nik221107</td>\n",
              "      <td>1523</td>\n",
              "      <td>adivanov2009</td>\n",
              "      <td>1469</td>\n",
              "      <td>e4 e5 Nf3 d6 d4 Nc6 d5 Nb4 a3 Na6 Nc3 Be7 b4 N...</td>\n",
              "      <td>C41</td>\n",
              "      <td>Philidor Defense</td>\n",
              "      <td>5</td>\n",
              "    </tr>\n",
              "  </tbody>\n",
              "</table>\n",
              "</div>\n",
              "      <button class=\"colab-df-convert\" onclick=\"convertToInteractive('df-8a047a4f-4c94-4d35-98ad-f7a3e9fe2bc4')\"\n",
              "              title=\"Convert this dataframe to an interactive table.\"\n",
              "              style=\"display:none;\">\n",
              "        \n",
              "  <svg xmlns=\"http://www.w3.org/2000/svg\" height=\"24px\"viewBox=\"0 0 24 24\"\n",
              "       width=\"24px\">\n",
              "    <path d=\"M0 0h24v24H0V0z\" fill=\"none\"/>\n",
              "    <path d=\"M18.56 5.44l.94 2.06.94-2.06 2.06-.94-2.06-.94-.94-2.06-.94 2.06-2.06.94zm-11 1L8.5 8.5l.94-2.06 2.06-.94-2.06-.94L8.5 2.5l-.94 2.06-2.06.94zm10 10l.94 2.06.94-2.06 2.06-.94-2.06-.94-.94-2.06-.94 2.06-2.06.94z\"/><path d=\"M17.41 7.96l-1.37-1.37c-.4-.4-.92-.59-1.43-.59-.52 0-1.04.2-1.43.59L10.3 9.45l-7.72 7.72c-.78.78-.78 2.05 0 2.83L4 21.41c.39.39.9.59 1.41.59.51 0 1.02-.2 1.41-.59l7.78-7.78 2.81-2.81c.8-.78.8-2.07 0-2.86zM5.41 20L4 18.59l7.72-7.72 1.47 1.35L5.41 20z\"/>\n",
              "  </svg>\n",
              "      </button>\n",
              "      \n",
              "  <style>\n",
              "    .colab-df-container {\n",
              "      display:flex;\n",
              "      flex-wrap:wrap;\n",
              "      gap: 12px;\n",
              "    }\n",
              "\n",
              "    .colab-df-convert {\n",
              "      background-color: #E8F0FE;\n",
              "      border: none;\n",
              "      border-radius: 50%;\n",
              "      cursor: pointer;\n",
              "      display: none;\n",
              "      fill: #1967D2;\n",
              "      height: 32px;\n",
              "      padding: 0 0 0 0;\n",
              "      width: 32px;\n",
              "    }\n",
              "\n",
              "    .colab-df-convert:hover {\n",
              "      background-color: #E2EBFA;\n",
              "      box-shadow: 0px 1px 2px rgba(60, 64, 67, 0.3), 0px 1px 3px 1px rgba(60, 64, 67, 0.15);\n",
              "      fill: #174EA6;\n",
              "    }\n",
              "\n",
              "    [theme=dark] .colab-df-convert {\n",
              "      background-color: #3B4455;\n",
              "      fill: #D2E3FC;\n",
              "    }\n",
              "\n",
              "    [theme=dark] .colab-df-convert:hover {\n",
              "      background-color: #434B5C;\n",
              "      box-shadow: 0px 1px 3px 1px rgba(0, 0, 0, 0.15);\n",
              "      filter: drop-shadow(0px 1px 2px rgba(0, 0, 0, 0.3));\n",
              "      fill: #FFFFFF;\n",
              "    }\n",
              "  </style>\n",
              "\n",
              "      <script>\n",
              "        const buttonEl =\n",
              "          document.querySelector('#df-8a047a4f-4c94-4d35-98ad-f7a3e9fe2bc4 button.colab-df-convert');\n",
              "        buttonEl.style.display =\n",
              "          google.colab.kernel.accessAllowed ? 'block' : 'none';\n",
              "\n",
              "        async function convertToInteractive(key) {\n",
              "          const element = document.querySelector('#df-8a047a4f-4c94-4d35-98ad-f7a3e9fe2bc4');\n",
              "          const dataTable =\n",
              "            await google.colab.kernel.invokeFunction('convertToInteractive',\n",
              "                                                     [key], {});\n",
              "          if (!dataTable) return;\n",
              "\n",
              "          const docLinkHtml = 'Like what you see? Visit the ' +\n",
              "            '<a target=\"_blank\" href=https://colab.research.google.com/notebooks/data_table.ipynb>data table notebook</a>'\n",
              "            + ' to learn more about interactive tables.';\n",
              "          element.innerHTML = '';\n",
              "          dataTable['output_type'] = 'display_data';\n",
              "          await google.colab.output.renderOutput(dataTable, element);\n",
              "          const docLink = document.createElement('div');\n",
              "          docLink.innerHTML = docLinkHtml;\n",
              "          element.appendChild(docLink);\n",
              "        }\n",
              "      </script>\n",
              "    </div>\n",
              "  </div>\n",
              "  "
            ]
          },
          "metadata": {},
          "execution_count": 3
        }
      ]
    },
    {
      "cell_type": "code",
      "source": [
        "all_games.columns, all_games.shape"
      ],
      "metadata": {
        "id": "EdyzScrjfpsY",
        "colab": {
          "base_uri": "https://localhost:8080/"
        },
        "outputId": "f53d2165-6c79-48e0-acf3-9baabc89192d"
      },
      "execution_count": null,
      "outputs": [
        {
          "output_type": "execute_result",
          "data": {
            "text/plain": [
              "(Index(['id', 'rated', 'created_at', 'last_move_at', 'turns', 'victory_status',\n",
              "        'winner', 'increment_code', 'white_id', 'white_rating', 'black_id',\n",
              "        'black_rating', 'moves', 'opening_eco', 'opening_name', 'opening_ply'],\n",
              "       dtype='object'), (20058, 16))"
            ]
          },
          "metadata": {},
          "execution_count": 4
        }
      ]
    },
    {
      "cell_type": "code",
      "source": [
        "all_games['turns'].max(), all_games['turns'].min(), all_games['turns'].mean()"
      ],
      "metadata": {
        "colab": {
          "base_uri": "https://localhost:8080/"
        },
        "id": "QjyRlu3i-Dfj",
        "outputId": "0155eb17-816a-4b59-9cee-a93a693cf937"
      },
      "execution_count": null,
      "outputs": [
        {
          "output_type": "execute_result",
          "data": {
            "text/plain": [
              "(349, 1, 60.46599860404826)"
            ]
          },
          "metadata": {},
          "execution_count": 5
        }
      ]
    },
    {
      "cell_type": "code",
      "source": [
        "#begin data cleaning, get rid of unnecessary columns\n",
        "games = all_games.drop(['created_at',\t'last_move_at',\t'opening_name', 'white_id', 'black_id', 'moves'], axis=1)\n",
        "games['rating_difference'] = games['white_rating'] - games['black_rating']\n",
        "games.head()"
      ],
      "metadata": {
        "id": "danI1Egn-bxY",
        "colab": {
          "base_uri": "https://localhost:8080/",
          "height": 206
        },
        "outputId": "9824804f-3e25-4d3c-f4ee-d2bc52e3ae15"
      },
      "execution_count": null,
      "outputs": [
        {
          "output_type": "execute_result",
          "data": {
            "text/plain": [
              "         id  rated  turns victory_status winner increment_code  white_rating  \\\n",
              "0  TZJHLljE  False     13      outoftime  white           15+2          1500   \n",
              "1  l1NXvwaE   True     16         resign  black           5+10          1322   \n",
              "2  mIICvQHh   True     61           mate  white           5+10          1496   \n",
              "3  kWKvrqYL   True     61           mate  white           20+0          1439   \n",
              "4  9tXo1AUZ   True     95           mate  white           30+3          1523   \n",
              "\n",
              "   black_rating opening_eco  opening_ply  rating_difference  \n",
              "0          1191         D10            5                309  \n",
              "1          1261         B00            4                 61  \n",
              "2          1500         C20            3                 -4  \n",
              "3          1454         D02            3                -15  \n",
              "4          1469         C41            5                 54  "
            ],
            "text/html": [
              "\n",
              "  <div id=\"df-b97d3810-b4ee-4a09-bd94-e4dafa825f64\">\n",
              "    <div class=\"colab-df-container\">\n",
              "      <div>\n",
              "<style scoped>\n",
              "    .dataframe tbody tr th:only-of-type {\n",
              "        vertical-align: middle;\n",
              "    }\n",
              "\n",
              "    .dataframe tbody tr th {\n",
              "        vertical-align: top;\n",
              "    }\n",
              "\n",
              "    .dataframe thead th {\n",
              "        text-align: right;\n",
              "    }\n",
              "</style>\n",
              "<table border=\"1\" class=\"dataframe\">\n",
              "  <thead>\n",
              "    <tr style=\"text-align: right;\">\n",
              "      <th></th>\n",
              "      <th>id</th>\n",
              "      <th>rated</th>\n",
              "      <th>turns</th>\n",
              "      <th>victory_status</th>\n",
              "      <th>winner</th>\n",
              "      <th>increment_code</th>\n",
              "      <th>white_rating</th>\n",
              "      <th>black_rating</th>\n",
              "      <th>opening_eco</th>\n",
              "      <th>opening_ply</th>\n",
              "      <th>rating_difference</th>\n",
              "    </tr>\n",
              "  </thead>\n",
              "  <tbody>\n",
              "    <tr>\n",
              "      <th>0</th>\n",
              "      <td>TZJHLljE</td>\n",
              "      <td>False</td>\n",
              "      <td>13</td>\n",
              "      <td>outoftime</td>\n",
              "      <td>white</td>\n",
              "      <td>15+2</td>\n",
              "      <td>1500</td>\n",
              "      <td>1191</td>\n",
              "      <td>D10</td>\n",
              "      <td>5</td>\n",
              "      <td>309</td>\n",
              "    </tr>\n",
              "    <tr>\n",
              "      <th>1</th>\n",
              "      <td>l1NXvwaE</td>\n",
              "      <td>True</td>\n",
              "      <td>16</td>\n",
              "      <td>resign</td>\n",
              "      <td>black</td>\n",
              "      <td>5+10</td>\n",
              "      <td>1322</td>\n",
              "      <td>1261</td>\n",
              "      <td>B00</td>\n",
              "      <td>4</td>\n",
              "      <td>61</td>\n",
              "    </tr>\n",
              "    <tr>\n",
              "      <th>2</th>\n",
              "      <td>mIICvQHh</td>\n",
              "      <td>True</td>\n",
              "      <td>61</td>\n",
              "      <td>mate</td>\n",
              "      <td>white</td>\n",
              "      <td>5+10</td>\n",
              "      <td>1496</td>\n",
              "      <td>1500</td>\n",
              "      <td>C20</td>\n",
              "      <td>3</td>\n",
              "      <td>-4</td>\n",
              "    </tr>\n",
              "    <tr>\n",
              "      <th>3</th>\n",
              "      <td>kWKvrqYL</td>\n",
              "      <td>True</td>\n",
              "      <td>61</td>\n",
              "      <td>mate</td>\n",
              "      <td>white</td>\n",
              "      <td>20+0</td>\n",
              "      <td>1439</td>\n",
              "      <td>1454</td>\n",
              "      <td>D02</td>\n",
              "      <td>3</td>\n",
              "      <td>-15</td>\n",
              "    </tr>\n",
              "    <tr>\n",
              "      <th>4</th>\n",
              "      <td>9tXo1AUZ</td>\n",
              "      <td>True</td>\n",
              "      <td>95</td>\n",
              "      <td>mate</td>\n",
              "      <td>white</td>\n",
              "      <td>30+3</td>\n",
              "      <td>1523</td>\n",
              "      <td>1469</td>\n",
              "      <td>C41</td>\n",
              "      <td>5</td>\n",
              "      <td>54</td>\n",
              "    </tr>\n",
              "  </tbody>\n",
              "</table>\n",
              "</div>\n",
              "      <button class=\"colab-df-convert\" onclick=\"convertToInteractive('df-b97d3810-b4ee-4a09-bd94-e4dafa825f64')\"\n",
              "              title=\"Convert this dataframe to an interactive table.\"\n",
              "              style=\"display:none;\">\n",
              "        \n",
              "  <svg xmlns=\"http://www.w3.org/2000/svg\" height=\"24px\"viewBox=\"0 0 24 24\"\n",
              "       width=\"24px\">\n",
              "    <path d=\"M0 0h24v24H0V0z\" fill=\"none\"/>\n",
              "    <path d=\"M18.56 5.44l.94 2.06.94-2.06 2.06-.94-2.06-.94-.94-2.06-.94 2.06-2.06.94zm-11 1L8.5 8.5l.94-2.06 2.06-.94-2.06-.94L8.5 2.5l-.94 2.06-2.06.94zm10 10l.94 2.06.94-2.06 2.06-.94-2.06-.94-.94-2.06-.94 2.06-2.06.94z\"/><path d=\"M17.41 7.96l-1.37-1.37c-.4-.4-.92-.59-1.43-.59-.52 0-1.04.2-1.43.59L10.3 9.45l-7.72 7.72c-.78.78-.78 2.05 0 2.83L4 21.41c.39.39.9.59 1.41.59.51 0 1.02-.2 1.41-.59l7.78-7.78 2.81-2.81c.8-.78.8-2.07 0-2.86zM5.41 20L4 18.59l7.72-7.72 1.47 1.35L5.41 20z\"/>\n",
              "  </svg>\n",
              "      </button>\n",
              "      \n",
              "  <style>\n",
              "    .colab-df-container {\n",
              "      display:flex;\n",
              "      flex-wrap:wrap;\n",
              "      gap: 12px;\n",
              "    }\n",
              "\n",
              "    .colab-df-convert {\n",
              "      background-color: #E8F0FE;\n",
              "      border: none;\n",
              "      border-radius: 50%;\n",
              "      cursor: pointer;\n",
              "      display: none;\n",
              "      fill: #1967D2;\n",
              "      height: 32px;\n",
              "      padding: 0 0 0 0;\n",
              "      width: 32px;\n",
              "    }\n",
              "\n",
              "    .colab-df-convert:hover {\n",
              "      background-color: #E2EBFA;\n",
              "      box-shadow: 0px 1px 2px rgba(60, 64, 67, 0.3), 0px 1px 3px 1px rgba(60, 64, 67, 0.15);\n",
              "      fill: #174EA6;\n",
              "    }\n",
              "\n",
              "    [theme=dark] .colab-df-convert {\n",
              "      background-color: #3B4455;\n",
              "      fill: #D2E3FC;\n",
              "    }\n",
              "\n",
              "    [theme=dark] .colab-df-convert:hover {\n",
              "      background-color: #434B5C;\n",
              "      box-shadow: 0px 1px 3px 1px rgba(0, 0, 0, 0.15);\n",
              "      filter: drop-shadow(0px 1px 2px rgba(0, 0, 0, 0.3));\n",
              "      fill: #FFFFFF;\n",
              "    }\n",
              "  </style>\n",
              "\n",
              "      <script>\n",
              "        const buttonEl =\n",
              "          document.querySelector('#df-b97d3810-b4ee-4a09-bd94-e4dafa825f64 button.colab-df-convert');\n",
              "        buttonEl.style.display =\n",
              "          google.colab.kernel.accessAllowed ? 'block' : 'none';\n",
              "\n",
              "        async function convertToInteractive(key) {\n",
              "          const element = document.querySelector('#df-b97d3810-b4ee-4a09-bd94-e4dafa825f64');\n",
              "          const dataTable =\n",
              "            await google.colab.kernel.invokeFunction('convertToInteractive',\n",
              "                                                     [key], {});\n",
              "          if (!dataTable) return;\n",
              "\n",
              "          const docLinkHtml = 'Like what you see? Visit the ' +\n",
              "            '<a target=\"_blank\" href=https://colab.research.google.com/notebooks/data_table.ipynb>data table notebook</a>'\n",
              "            + ' to learn more about interactive tables.';\n",
              "          element.innerHTML = '';\n",
              "          dataTable['output_type'] = 'display_data';\n",
              "          await google.colab.output.renderOutput(dataTable, element);\n",
              "          const docLink = document.createElement('div');\n",
              "          docLink.innerHTML = docLinkHtml;\n",
              "          element.appendChild(docLink);\n",
              "        }\n",
              "      </script>\n",
              "    </div>\n",
              "  </div>\n",
              "  "
            ]
          },
          "metadata": {},
          "execution_count": 6
        }
      ]
    },
    {
      "cell_type": "code",
      "source": [
        "games['increment_code'].value_counts()"
      ],
      "metadata": {
        "colab": {
          "base_uri": "https://localhost:8080/"
        },
        "id": "fgSZ-9KkIX6z",
        "outputId": "6096e8ad-ae8e-4656-c670-aa5b2df1a7c3"
      },
      "execution_count": null,
      "outputs": [
        {
          "output_type": "execute_result",
          "data": {
            "text/plain": [
              "10+0     7721\n",
              "15+0     1311\n",
              "15+15     850\n",
              "5+5       738\n",
              "5+8       697\n",
              "         ... \n",
              "14+9        1\n",
              "0+20        1\n",
              "0+40        1\n",
              "13+20       1\n",
              "14+15       1\n",
              "Name: increment_code, Length: 400, dtype: int64"
            ]
          },
          "metadata": {},
          "execution_count": 7
        }
      ]
    },
    {
      "cell_type": "markdown",
      "source": [
        "The increment code describes the type of game being played. For example, a 10+5 game gives 10 minutes for each player, and each move they take gives them 5 seconds back. Some of these are custom games, so we are going to remove the ones with less than 50 occurances, so we don't need to do 400 one-hots. "
      ],
      "metadata": {
        "id": "Q0KECWLQJkAv"
      }
    },
    {
      "cell_type": "code",
      "source": [
        "v = games.increment_code.value_counts()\n",
        "games = games[games.increment_code.isin(v.index[v.gt(20)])]\n",
        "games['increment_code'].value_counts()"
      ],
      "metadata": {
        "id": "FTCACD0VIaFa",
        "colab": {
          "base_uri": "https://localhost:8080/"
        },
        "outputId": "0d7b0ef5-991d-4646-8c2a-4a43ff8533ee"
      },
      "execution_count": null,
      "outputs": [
        {
          "output_type": "execute_result",
          "data": {
            "text/plain": [
              "10+0     7721\n",
              "15+0     1311\n",
              "15+15     850\n",
              "5+5       738\n",
              "5+8       697\n",
              "         ... \n",
              "16+0       22\n",
              "6+6        22\n",
              "20+30      21\n",
              "10+30      21\n",
              "13+0       21\n",
              "Name: increment_code, Length: 82, dtype: int64"
            ]
          },
          "metadata": {},
          "execution_count": 8
        }
      ]
    },
    {
      "cell_type": "code",
      "source": [
        "games"
      ],
      "metadata": {
        "colab": {
          "base_uri": "https://localhost:8080/",
          "height": 424
        },
        "id": "GjBsPGborFqk",
        "outputId": "f6c7abe9-3e91-4a00-b3a6-b2a57900663f"
      },
      "execution_count": null,
      "outputs": [
        {
          "output_type": "execute_result",
          "data": {
            "text/plain": [
              "             id  rated  turns victory_status winner increment_code  \\\n",
              "0      TZJHLljE  False     13      outoftime  white           15+2   \n",
              "1      l1NXvwaE   True     16         resign  black           5+10   \n",
              "2      mIICvQHh   True     61           mate  white           5+10   \n",
              "3      kWKvrqYL   True     61           mate  white           20+0   \n",
              "5      MsoDV9wj  False      5           draw   draw           10+0   \n",
              "...         ...    ...    ...            ...    ...            ...   \n",
              "20053  EfqH7VVH   True     24         resign  white          10+10   \n",
              "20054  WSJDhbPl   True     82           mate  black           10+0   \n",
              "20055  yrAas0Kj   True     35           mate  white           10+0   \n",
              "20056  b0v4tRyF   True    109         resign  white           10+0   \n",
              "20057  N8G2JHGG   True     78           mate  black           10+0   \n",
              "\n",
              "       white_rating  black_rating opening_eco  opening_ply  rating_difference  \n",
              "0              1500          1191         D10            5                309  \n",
              "1              1322          1261         B00            4                 61  \n",
              "2              1496          1500         C20            3                 -4  \n",
              "3              1439          1454         D02            3                -15  \n",
              "5              1250          1002         B27            4                248  \n",
              "...             ...           ...         ...          ...                ...  \n",
              "20053          1691          1220         A80            2                471  \n",
              "20054          1233          1196         A41            2                 37  \n",
              "20055          1219          1286         D00            3                -67  \n",
              "20056          1360          1227         B07            4                133  \n",
              "20057          1235          1339         D00            3               -104  \n",
              "\n",
              "[18579 rows x 11 columns]"
            ],
            "text/html": [
              "\n",
              "  <div id=\"df-21a40adc-f702-481e-91a2-279b63161731\">\n",
              "    <div class=\"colab-df-container\">\n",
              "      <div>\n",
              "<style scoped>\n",
              "    .dataframe tbody tr th:only-of-type {\n",
              "        vertical-align: middle;\n",
              "    }\n",
              "\n",
              "    .dataframe tbody tr th {\n",
              "        vertical-align: top;\n",
              "    }\n",
              "\n",
              "    .dataframe thead th {\n",
              "        text-align: right;\n",
              "    }\n",
              "</style>\n",
              "<table border=\"1\" class=\"dataframe\">\n",
              "  <thead>\n",
              "    <tr style=\"text-align: right;\">\n",
              "      <th></th>\n",
              "      <th>id</th>\n",
              "      <th>rated</th>\n",
              "      <th>turns</th>\n",
              "      <th>victory_status</th>\n",
              "      <th>winner</th>\n",
              "      <th>increment_code</th>\n",
              "      <th>white_rating</th>\n",
              "      <th>black_rating</th>\n",
              "      <th>opening_eco</th>\n",
              "      <th>opening_ply</th>\n",
              "      <th>rating_difference</th>\n",
              "    </tr>\n",
              "  </thead>\n",
              "  <tbody>\n",
              "    <tr>\n",
              "      <th>0</th>\n",
              "      <td>TZJHLljE</td>\n",
              "      <td>False</td>\n",
              "      <td>13</td>\n",
              "      <td>outoftime</td>\n",
              "      <td>white</td>\n",
              "      <td>15+2</td>\n",
              "      <td>1500</td>\n",
              "      <td>1191</td>\n",
              "      <td>D10</td>\n",
              "      <td>5</td>\n",
              "      <td>309</td>\n",
              "    </tr>\n",
              "    <tr>\n",
              "      <th>1</th>\n",
              "      <td>l1NXvwaE</td>\n",
              "      <td>True</td>\n",
              "      <td>16</td>\n",
              "      <td>resign</td>\n",
              "      <td>black</td>\n",
              "      <td>5+10</td>\n",
              "      <td>1322</td>\n",
              "      <td>1261</td>\n",
              "      <td>B00</td>\n",
              "      <td>4</td>\n",
              "      <td>61</td>\n",
              "    </tr>\n",
              "    <tr>\n",
              "      <th>2</th>\n",
              "      <td>mIICvQHh</td>\n",
              "      <td>True</td>\n",
              "      <td>61</td>\n",
              "      <td>mate</td>\n",
              "      <td>white</td>\n",
              "      <td>5+10</td>\n",
              "      <td>1496</td>\n",
              "      <td>1500</td>\n",
              "      <td>C20</td>\n",
              "      <td>3</td>\n",
              "      <td>-4</td>\n",
              "    </tr>\n",
              "    <tr>\n",
              "      <th>3</th>\n",
              "      <td>kWKvrqYL</td>\n",
              "      <td>True</td>\n",
              "      <td>61</td>\n",
              "      <td>mate</td>\n",
              "      <td>white</td>\n",
              "      <td>20+0</td>\n",
              "      <td>1439</td>\n",
              "      <td>1454</td>\n",
              "      <td>D02</td>\n",
              "      <td>3</td>\n",
              "      <td>-15</td>\n",
              "    </tr>\n",
              "    <tr>\n",
              "      <th>5</th>\n",
              "      <td>MsoDV9wj</td>\n",
              "      <td>False</td>\n",
              "      <td>5</td>\n",
              "      <td>draw</td>\n",
              "      <td>draw</td>\n",
              "      <td>10+0</td>\n",
              "      <td>1250</td>\n",
              "      <td>1002</td>\n",
              "      <td>B27</td>\n",
              "      <td>4</td>\n",
              "      <td>248</td>\n",
              "    </tr>\n",
              "    <tr>\n",
              "      <th>...</th>\n",
              "      <td>...</td>\n",
              "      <td>...</td>\n",
              "      <td>...</td>\n",
              "      <td>...</td>\n",
              "      <td>...</td>\n",
              "      <td>...</td>\n",
              "      <td>...</td>\n",
              "      <td>...</td>\n",
              "      <td>...</td>\n",
              "      <td>...</td>\n",
              "      <td>...</td>\n",
              "    </tr>\n",
              "    <tr>\n",
              "      <th>20053</th>\n",
              "      <td>EfqH7VVH</td>\n",
              "      <td>True</td>\n",
              "      <td>24</td>\n",
              "      <td>resign</td>\n",
              "      <td>white</td>\n",
              "      <td>10+10</td>\n",
              "      <td>1691</td>\n",
              "      <td>1220</td>\n",
              "      <td>A80</td>\n",
              "      <td>2</td>\n",
              "      <td>471</td>\n",
              "    </tr>\n",
              "    <tr>\n",
              "      <th>20054</th>\n",
              "      <td>WSJDhbPl</td>\n",
              "      <td>True</td>\n",
              "      <td>82</td>\n",
              "      <td>mate</td>\n",
              "      <td>black</td>\n",
              "      <td>10+0</td>\n",
              "      <td>1233</td>\n",
              "      <td>1196</td>\n",
              "      <td>A41</td>\n",
              "      <td>2</td>\n",
              "      <td>37</td>\n",
              "    </tr>\n",
              "    <tr>\n",
              "      <th>20055</th>\n",
              "      <td>yrAas0Kj</td>\n",
              "      <td>True</td>\n",
              "      <td>35</td>\n",
              "      <td>mate</td>\n",
              "      <td>white</td>\n",
              "      <td>10+0</td>\n",
              "      <td>1219</td>\n",
              "      <td>1286</td>\n",
              "      <td>D00</td>\n",
              "      <td>3</td>\n",
              "      <td>-67</td>\n",
              "    </tr>\n",
              "    <tr>\n",
              "      <th>20056</th>\n",
              "      <td>b0v4tRyF</td>\n",
              "      <td>True</td>\n",
              "      <td>109</td>\n",
              "      <td>resign</td>\n",
              "      <td>white</td>\n",
              "      <td>10+0</td>\n",
              "      <td>1360</td>\n",
              "      <td>1227</td>\n",
              "      <td>B07</td>\n",
              "      <td>4</td>\n",
              "      <td>133</td>\n",
              "    </tr>\n",
              "    <tr>\n",
              "      <th>20057</th>\n",
              "      <td>N8G2JHGG</td>\n",
              "      <td>True</td>\n",
              "      <td>78</td>\n",
              "      <td>mate</td>\n",
              "      <td>black</td>\n",
              "      <td>10+0</td>\n",
              "      <td>1235</td>\n",
              "      <td>1339</td>\n",
              "      <td>D00</td>\n",
              "      <td>3</td>\n",
              "      <td>-104</td>\n",
              "    </tr>\n",
              "  </tbody>\n",
              "</table>\n",
              "<p>18579 rows × 11 columns</p>\n",
              "</div>\n",
              "      <button class=\"colab-df-convert\" onclick=\"convertToInteractive('df-21a40adc-f702-481e-91a2-279b63161731')\"\n",
              "              title=\"Convert this dataframe to an interactive table.\"\n",
              "              style=\"display:none;\">\n",
              "        \n",
              "  <svg xmlns=\"http://www.w3.org/2000/svg\" height=\"24px\"viewBox=\"0 0 24 24\"\n",
              "       width=\"24px\">\n",
              "    <path d=\"M0 0h24v24H0V0z\" fill=\"none\"/>\n",
              "    <path d=\"M18.56 5.44l.94 2.06.94-2.06 2.06-.94-2.06-.94-.94-2.06-.94 2.06-2.06.94zm-11 1L8.5 8.5l.94-2.06 2.06-.94-2.06-.94L8.5 2.5l-.94 2.06-2.06.94zm10 10l.94 2.06.94-2.06 2.06-.94-2.06-.94-.94-2.06-.94 2.06-2.06.94z\"/><path d=\"M17.41 7.96l-1.37-1.37c-.4-.4-.92-.59-1.43-.59-.52 0-1.04.2-1.43.59L10.3 9.45l-7.72 7.72c-.78.78-.78 2.05 0 2.83L4 21.41c.39.39.9.59 1.41.59.51 0 1.02-.2 1.41-.59l7.78-7.78 2.81-2.81c.8-.78.8-2.07 0-2.86zM5.41 20L4 18.59l7.72-7.72 1.47 1.35L5.41 20z\"/>\n",
              "  </svg>\n",
              "      </button>\n",
              "      \n",
              "  <style>\n",
              "    .colab-df-container {\n",
              "      display:flex;\n",
              "      flex-wrap:wrap;\n",
              "      gap: 12px;\n",
              "    }\n",
              "\n",
              "    .colab-df-convert {\n",
              "      background-color: #E8F0FE;\n",
              "      border: none;\n",
              "      border-radius: 50%;\n",
              "      cursor: pointer;\n",
              "      display: none;\n",
              "      fill: #1967D2;\n",
              "      height: 32px;\n",
              "      padding: 0 0 0 0;\n",
              "      width: 32px;\n",
              "    }\n",
              "\n",
              "    .colab-df-convert:hover {\n",
              "      background-color: #E2EBFA;\n",
              "      box-shadow: 0px 1px 2px rgba(60, 64, 67, 0.3), 0px 1px 3px 1px rgba(60, 64, 67, 0.15);\n",
              "      fill: #174EA6;\n",
              "    }\n",
              "\n",
              "    [theme=dark] .colab-df-convert {\n",
              "      background-color: #3B4455;\n",
              "      fill: #D2E3FC;\n",
              "    }\n",
              "\n",
              "    [theme=dark] .colab-df-convert:hover {\n",
              "      background-color: #434B5C;\n",
              "      box-shadow: 0px 1px 3px 1px rgba(0, 0, 0, 0.15);\n",
              "      filter: drop-shadow(0px 1px 2px rgba(0, 0, 0, 0.3));\n",
              "      fill: #FFFFFF;\n",
              "    }\n",
              "  </style>\n",
              "\n",
              "      <script>\n",
              "        const buttonEl =\n",
              "          document.querySelector('#df-21a40adc-f702-481e-91a2-279b63161731 button.colab-df-convert');\n",
              "        buttonEl.style.display =\n",
              "          google.colab.kernel.accessAllowed ? 'block' : 'none';\n",
              "\n",
              "        async function convertToInteractive(key) {\n",
              "          const element = document.querySelector('#df-21a40adc-f702-481e-91a2-279b63161731');\n",
              "          const dataTable =\n",
              "            await google.colab.kernel.invokeFunction('convertToInteractive',\n",
              "                                                     [key], {});\n",
              "          if (!dataTable) return;\n",
              "\n",
              "          const docLinkHtml = 'Like what you see? Visit the ' +\n",
              "            '<a target=\"_blank\" href=https://colab.research.google.com/notebooks/data_table.ipynb>data table notebook</a>'\n",
              "            + ' to learn more about interactive tables.';\n",
              "          element.innerHTML = '';\n",
              "          dataTable['output_type'] = 'display_data';\n",
              "          await google.colab.output.renderOutput(dataTable, element);\n",
              "          const docLink = document.createElement('div');\n",
              "          docLink.innerHTML = docLinkHtml;\n",
              "          element.appendChild(docLink);\n",
              "        }\n",
              "      </script>\n",
              "    </div>\n",
              "  </div>\n",
              "  "
            ]
          },
          "metadata": {},
          "execution_count": 9
        }
      ]
    },
    {
      "cell_type": "markdown",
      "source": [
        "Also the amount of openings is a lot, and some are very rare, so we will do the same thing we did with the increment codes. By making the occurance threshold 10, we half the amount of ecos to look at. "
      ],
      "metadata": {
        "id": "3JagbC60ydqa"
      }
    },
    {
      "cell_type": "code",
      "source": [
        "games['opening_eco'].value_counts()"
      ],
      "metadata": {
        "colab": {
          "base_uri": "https://localhost:8080/"
        },
        "id": "54-Xa_0lygt0",
        "outputId": "55356d15-3c3b-486c-c926-7b66cc88416f"
      },
      "execution_count": null,
      "outputs": [
        {
          "output_type": "execute_result",
          "data": {
            "text/plain": [
              "A00    899\n",
              "C00    790\n",
              "D00    684\n",
              "B01    668\n",
              "C41    630\n",
              "      ... \n",
              "A67      1\n",
              "D95      1\n",
              "A99      1\n",
              "D22      1\n",
              "D19      1\n",
              "Name: opening_eco, Length: 361, dtype: int64"
            ]
          },
          "metadata": {},
          "execution_count": 10
        }
      ]
    },
    {
      "cell_type": "code",
      "source": [
        "v = games.opening_eco.value_counts()\n",
        "games = games[games.opening_eco.isin(v.index[v.gt(5)])]"
      ],
      "metadata": {
        "id": "MjbskEvXyp4m"
      },
      "execution_count": null,
      "outputs": []
    },
    {
      "cell_type": "code",
      "source": [
        "games['opening_eco'].value_counts()"
      ],
      "metadata": {
        "colab": {
          "base_uri": "https://localhost:8080/"
        },
        "id": "j99BtGXUytqW",
        "outputId": "a044e343-cca5-4bdc-e977-45a6ee9ce183"
      },
      "execution_count": null,
      "outputs": [
        {
          "output_type": "execute_result",
          "data": {
            "text/plain": [
              "A00    899\n",
              "C00    790\n",
              "D00    684\n",
              "B01    668\n",
              "C41    630\n",
              "      ... \n",
              "E34      6\n",
              "D41      6\n",
              "C72      6\n",
              "B93      6\n",
              "C06      6\n",
              "Name: opening_eco, Length: 224, dtype: int64"
            ]
          },
          "metadata": {},
          "execution_count": 12
        }
      ]
    },
    {
      "cell_type": "markdown",
      "source": [
        "Now we will bianrize the rated column. "
      ],
      "metadata": {
        "id": "52buYJ--tVUx"
      }
    },
    {
      "cell_type": "code",
      "source": [
        "games['rated'] = games['rated'].astype(int)"
      ],
      "metadata": {
        "colab": {
          "base_uri": "https://localhost:8080/"
        },
        "id": "2b4oaAJWs3nV",
        "outputId": "e72175d1-dd55-44fe-e382-71025fe1ac99"
      },
      "execution_count": null,
      "outputs": [
        {
          "output_type": "stream",
          "name": "stderr",
          "text": [
            "/usr/local/lib/python3.7/dist-packages/ipykernel_launcher.py:1: SettingWithCopyWarning: \n",
            "A value is trying to be set on a copy of a slice from a DataFrame.\n",
            "Try using .loc[row_indexer,col_indexer] = value instead\n",
            "\n",
            "See the caveats in the documentation: https://pandas.pydata.org/pandas-docs/stable/user_guide/indexing.html#returning-a-view-versus-a-copy\n",
            "  \"\"\"Entry point for launching an IPython kernel.\n"
          ]
        }
      ]
    },
    {
      "cell_type": "code",
      "source": [
        "games"
      ],
      "metadata": {
        "colab": {
          "base_uri": "https://localhost:8080/",
          "height": 424
        },
        "id": "DUv-_eyDtdq3",
        "outputId": "1d17573d-a8be-4741-ca5e-223789e6411f"
      },
      "execution_count": null,
      "outputs": [
        {
          "output_type": "execute_result",
          "data": {
            "text/plain": [
              "             id  rated  turns victory_status winner increment_code  \\\n",
              "0      TZJHLljE      0     13      outoftime  white           15+2   \n",
              "1      l1NXvwaE      1     16         resign  black           5+10   \n",
              "2      mIICvQHh      1     61           mate  white           5+10   \n",
              "3      kWKvrqYL      1     61           mate  white           20+0   \n",
              "5      MsoDV9wj      0      5           draw   draw           10+0   \n",
              "...         ...    ...    ...            ...    ...            ...   \n",
              "20053  EfqH7VVH      1     24         resign  white          10+10   \n",
              "20054  WSJDhbPl      1     82           mate  black           10+0   \n",
              "20055  yrAas0Kj      1     35           mate  white           10+0   \n",
              "20056  b0v4tRyF      1    109         resign  white           10+0   \n",
              "20057  N8G2JHGG      1     78           mate  black           10+0   \n",
              "\n",
              "       white_rating  black_rating opening_eco  opening_ply  rating_difference  \n",
              "0              1500          1191         D10            5                309  \n",
              "1              1322          1261         B00            4                 61  \n",
              "2              1496          1500         C20            3                 -4  \n",
              "3              1439          1454         D02            3                -15  \n",
              "5              1250          1002         B27            4                248  \n",
              "...             ...           ...         ...          ...                ...  \n",
              "20053          1691          1220         A80            2                471  \n",
              "20054          1233          1196         A41            2                 37  \n",
              "20055          1219          1286         D00            3                -67  \n",
              "20056          1360          1227         B07            4                133  \n",
              "20057          1235          1339         D00            3               -104  \n",
              "\n",
              "[18241 rows x 11 columns]"
            ],
            "text/html": [
              "\n",
              "  <div id=\"df-491f001a-2ee4-4543-afb2-11b6d73ab388\">\n",
              "    <div class=\"colab-df-container\">\n",
              "      <div>\n",
              "<style scoped>\n",
              "    .dataframe tbody tr th:only-of-type {\n",
              "        vertical-align: middle;\n",
              "    }\n",
              "\n",
              "    .dataframe tbody tr th {\n",
              "        vertical-align: top;\n",
              "    }\n",
              "\n",
              "    .dataframe thead th {\n",
              "        text-align: right;\n",
              "    }\n",
              "</style>\n",
              "<table border=\"1\" class=\"dataframe\">\n",
              "  <thead>\n",
              "    <tr style=\"text-align: right;\">\n",
              "      <th></th>\n",
              "      <th>id</th>\n",
              "      <th>rated</th>\n",
              "      <th>turns</th>\n",
              "      <th>victory_status</th>\n",
              "      <th>winner</th>\n",
              "      <th>increment_code</th>\n",
              "      <th>white_rating</th>\n",
              "      <th>black_rating</th>\n",
              "      <th>opening_eco</th>\n",
              "      <th>opening_ply</th>\n",
              "      <th>rating_difference</th>\n",
              "    </tr>\n",
              "  </thead>\n",
              "  <tbody>\n",
              "    <tr>\n",
              "      <th>0</th>\n",
              "      <td>TZJHLljE</td>\n",
              "      <td>0</td>\n",
              "      <td>13</td>\n",
              "      <td>outoftime</td>\n",
              "      <td>white</td>\n",
              "      <td>15+2</td>\n",
              "      <td>1500</td>\n",
              "      <td>1191</td>\n",
              "      <td>D10</td>\n",
              "      <td>5</td>\n",
              "      <td>309</td>\n",
              "    </tr>\n",
              "    <tr>\n",
              "      <th>1</th>\n",
              "      <td>l1NXvwaE</td>\n",
              "      <td>1</td>\n",
              "      <td>16</td>\n",
              "      <td>resign</td>\n",
              "      <td>black</td>\n",
              "      <td>5+10</td>\n",
              "      <td>1322</td>\n",
              "      <td>1261</td>\n",
              "      <td>B00</td>\n",
              "      <td>4</td>\n",
              "      <td>61</td>\n",
              "    </tr>\n",
              "    <tr>\n",
              "      <th>2</th>\n",
              "      <td>mIICvQHh</td>\n",
              "      <td>1</td>\n",
              "      <td>61</td>\n",
              "      <td>mate</td>\n",
              "      <td>white</td>\n",
              "      <td>5+10</td>\n",
              "      <td>1496</td>\n",
              "      <td>1500</td>\n",
              "      <td>C20</td>\n",
              "      <td>3</td>\n",
              "      <td>-4</td>\n",
              "    </tr>\n",
              "    <tr>\n",
              "      <th>3</th>\n",
              "      <td>kWKvrqYL</td>\n",
              "      <td>1</td>\n",
              "      <td>61</td>\n",
              "      <td>mate</td>\n",
              "      <td>white</td>\n",
              "      <td>20+0</td>\n",
              "      <td>1439</td>\n",
              "      <td>1454</td>\n",
              "      <td>D02</td>\n",
              "      <td>3</td>\n",
              "      <td>-15</td>\n",
              "    </tr>\n",
              "    <tr>\n",
              "      <th>5</th>\n",
              "      <td>MsoDV9wj</td>\n",
              "      <td>0</td>\n",
              "      <td>5</td>\n",
              "      <td>draw</td>\n",
              "      <td>draw</td>\n",
              "      <td>10+0</td>\n",
              "      <td>1250</td>\n",
              "      <td>1002</td>\n",
              "      <td>B27</td>\n",
              "      <td>4</td>\n",
              "      <td>248</td>\n",
              "    </tr>\n",
              "    <tr>\n",
              "      <th>...</th>\n",
              "      <td>...</td>\n",
              "      <td>...</td>\n",
              "      <td>...</td>\n",
              "      <td>...</td>\n",
              "      <td>...</td>\n",
              "      <td>...</td>\n",
              "      <td>...</td>\n",
              "      <td>...</td>\n",
              "      <td>...</td>\n",
              "      <td>...</td>\n",
              "      <td>...</td>\n",
              "    </tr>\n",
              "    <tr>\n",
              "      <th>20053</th>\n",
              "      <td>EfqH7VVH</td>\n",
              "      <td>1</td>\n",
              "      <td>24</td>\n",
              "      <td>resign</td>\n",
              "      <td>white</td>\n",
              "      <td>10+10</td>\n",
              "      <td>1691</td>\n",
              "      <td>1220</td>\n",
              "      <td>A80</td>\n",
              "      <td>2</td>\n",
              "      <td>471</td>\n",
              "    </tr>\n",
              "    <tr>\n",
              "      <th>20054</th>\n",
              "      <td>WSJDhbPl</td>\n",
              "      <td>1</td>\n",
              "      <td>82</td>\n",
              "      <td>mate</td>\n",
              "      <td>black</td>\n",
              "      <td>10+0</td>\n",
              "      <td>1233</td>\n",
              "      <td>1196</td>\n",
              "      <td>A41</td>\n",
              "      <td>2</td>\n",
              "      <td>37</td>\n",
              "    </tr>\n",
              "    <tr>\n",
              "      <th>20055</th>\n",
              "      <td>yrAas0Kj</td>\n",
              "      <td>1</td>\n",
              "      <td>35</td>\n",
              "      <td>mate</td>\n",
              "      <td>white</td>\n",
              "      <td>10+0</td>\n",
              "      <td>1219</td>\n",
              "      <td>1286</td>\n",
              "      <td>D00</td>\n",
              "      <td>3</td>\n",
              "      <td>-67</td>\n",
              "    </tr>\n",
              "    <tr>\n",
              "      <th>20056</th>\n",
              "      <td>b0v4tRyF</td>\n",
              "      <td>1</td>\n",
              "      <td>109</td>\n",
              "      <td>resign</td>\n",
              "      <td>white</td>\n",
              "      <td>10+0</td>\n",
              "      <td>1360</td>\n",
              "      <td>1227</td>\n",
              "      <td>B07</td>\n",
              "      <td>4</td>\n",
              "      <td>133</td>\n",
              "    </tr>\n",
              "    <tr>\n",
              "      <th>20057</th>\n",
              "      <td>N8G2JHGG</td>\n",
              "      <td>1</td>\n",
              "      <td>78</td>\n",
              "      <td>mate</td>\n",
              "      <td>black</td>\n",
              "      <td>10+0</td>\n",
              "      <td>1235</td>\n",
              "      <td>1339</td>\n",
              "      <td>D00</td>\n",
              "      <td>3</td>\n",
              "      <td>-104</td>\n",
              "    </tr>\n",
              "  </tbody>\n",
              "</table>\n",
              "<p>18241 rows × 11 columns</p>\n",
              "</div>\n",
              "      <button class=\"colab-df-convert\" onclick=\"convertToInteractive('df-491f001a-2ee4-4543-afb2-11b6d73ab388')\"\n",
              "              title=\"Convert this dataframe to an interactive table.\"\n",
              "              style=\"display:none;\">\n",
              "        \n",
              "  <svg xmlns=\"http://www.w3.org/2000/svg\" height=\"24px\"viewBox=\"0 0 24 24\"\n",
              "       width=\"24px\">\n",
              "    <path d=\"M0 0h24v24H0V0z\" fill=\"none\"/>\n",
              "    <path d=\"M18.56 5.44l.94 2.06.94-2.06 2.06-.94-2.06-.94-.94-2.06-.94 2.06-2.06.94zm-11 1L8.5 8.5l.94-2.06 2.06-.94-2.06-.94L8.5 2.5l-.94 2.06-2.06.94zm10 10l.94 2.06.94-2.06 2.06-.94-2.06-.94-.94-2.06-.94 2.06-2.06.94z\"/><path d=\"M17.41 7.96l-1.37-1.37c-.4-.4-.92-.59-1.43-.59-.52 0-1.04.2-1.43.59L10.3 9.45l-7.72 7.72c-.78.78-.78 2.05 0 2.83L4 21.41c.39.39.9.59 1.41.59.51 0 1.02-.2 1.41-.59l7.78-7.78 2.81-2.81c.8-.78.8-2.07 0-2.86zM5.41 20L4 18.59l7.72-7.72 1.47 1.35L5.41 20z\"/>\n",
              "  </svg>\n",
              "      </button>\n",
              "      \n",
              "  <style>\n",
              "    .colab-df-container {\n",
              "      display:flex;\n",
              "      flex-wrap:wrap;\n",
              "      gap: 12px;\n",
              "    }\n",
              "\n",
              "    .colab-df-convert {\n",
              "      background-color: #E8F0FE;\n",
              "      border: none;\n",
              "      border-radius: 50%;\n",
              "      cursor: pointer;\n",
              "      display: none;\n",
              "      fill: #1967D2;\n",
              "      height: 32px;\n",
              "      padding: 0 0 0 0;\n",
              "      width: 32px;\n",
              "    }\n",
              "\n",
              "    .colab-df-convert:hover {\n",
              "      background-color: #E2EBFA;\n",
              "      box-shadow: 0px 1px 2px rgba(60, 64, 67, 0.3), 0px 1px 3px 1px rgba(60, 64, 67, 0.15);\n",
              "      fill: #174EA6;\n",
              "    }\n",
              "\n",
              "    [theme=dark] .colab-df-convert {\n",
              "      background-color: #3B4455;\n",
              "      fill: #D2E3FC;\n",
              "    }\n",
              "\n",
              "    [theme=dark] .colab-df-convert:hover {\n",
              "      background-color: #434B5C;\n",
              "      box-shadow: 0px 1px 3px 1px rgba(0, 0, 0, 0.15);\n",
              "      filter: drop-shadow(0px 1px 2px rgba(0, 0, 0, 0.3));\n",
              "      fill: #FFFFFF;\n",
              "    }\n",
              "  </style>\n",
              "\n",
              "      <script>\n",
              "        const buttonEl =\n",
              "          document.querySelector('#df-491f001a-2ee4-4543-afb2-11b6d73ab388 button.colab-df-convert');\n",
              "        buttonEl.style.display =\n",
              "          google.colab.kernel.accessAllowed ? 'block' : 'none';\n",
              "\n",
              "        async function convertToInteractive(key) {\n",
              "          const element = document.querySelector('#df-491f001a-2ee4-4543-afb2-11b6d73ab388');\n",
              "          const dataTable =\n",
              "            await google.colab.kernel.invokeFunction('convertToInteractive',\n",
              "                                                     [key], {});\n",
              "          if (!dataTable) return;\n",
              "\n",
              "          const docLinkHtml = 'Like what you see? Visit the ' +\n",
              "            '<a target=\"_blank\" href=https://colab.research.google.com/notebooks/data_table.ipynb>data table notebook</a>'\n",
              "            + ' to learn more about interactive tables.';\n",
              "          element.innerHTML = '';\n",
              "          dataTable['output_type'] = 'display_data';\n",
              "          await google.colab.output.renderOutput(dataTable, element);\n",
              "          const docLink = document.createElement('div');\n",
              "          docLink.innerHTML = docLinkHtml;\n",
              "          element.appendChild(docLink);\n",
              "        }\n",
              "      </script>\n",
              "    </div>\n",
              "  </div>\n",
              "  "
            ]
          },
          "metadata": {},
          "execution_count": 14
        }
      ]
    },
    {
      "cell_type": "markdown",
      "source": [
        "Before we get started with one hot encoding our data, let's take a look at a correlation matrix of the games dataset. This will allow us to see if there's any strongly correlated variables in our dataset before we one hot encode."
      ],
      "metadata": {
        "id": "AbVPoQcE7FvW"
      }
    },
    {
      "cell_type": "code",
      "source": [
        "games.corr()"
      ],
      "metadata": {
        "colab": {
          "base_uri": "https://localhost:8080/",
          "height": 238
        },
        "id": "dn0yuTpp63we",
        "outputId": "93eb7d7b-3f22-425f-c36a-9f662361916c"
      },
      "execution_count": null,
      "outputs": [
        {
          "output_type": "execute_result",
          "data": {
            "text/plain": [
              "                      rated     turns  white_rating  black_rating  \\\n",
              "rated              1.000000  0.087859      0.010519      0.038552   \n",
              "turns              0.087859  1.000000      0.131953      0.161340   \n",
              "white_rating       0.010519  0.131953      1.000000      0.634758   \n",
              "black_rating       0.038552  0.161340      0.634758      1.000000   \n",
              "opening_ply        0.004216  0.047490      0.245077      0.228403   \n",
              "rating_difference -0.032924 -0.035129      0.423175     -0.431499   \n",
              "\n",
              "                   opening_ply  rating_difference  \n",
              "rated                 0.004216          -0.032924  \n",
              "turns                 0.047490          -0.035129  \n",
              "white_rating          0.245077           0.423175  \n",
              "black_rating          0.228403          -0.431499  \n",
              "opening_ply           1.000000           0.018303  \n",
              "rating_difference     0.018303           1.000000  "
            ],
            "text/html": [
              "\n",
              "  <div id=\"df-8bf2e5e8-48f1-45cf-9311-d2902eae1e6a\">\n",
              "    <div class=\"colab-df-container\">\n",
              "      <div>\n",
              "<style scoped>\n",
              "    .dataframe tbody tr th:only-of-type {\n",
              "        vertical-align: middle;\n",
              "    }\n",
              "\n",
              "    .dataframe tbody tr th {\n",
              "        vertical-align: top;\n",
              "    }\n",
              "\n",
              "    .dataframe thead th {\n",
              "        text-align: right;\n",
              "    }\n",
              "</style>\n",
              "<table border=\"1\" class=\"dataframe\">\n",
              "  <thead>\n",
              "    <tr style=\"text-align: right;\">\n",
              "      <th></th>\n",
              "      <th>rated</th>\n",
              "      <th>turns</th>\n",
              "      <th>white_rating</th>\n",
              "      <th>black_rating</th>\n",
              "      <th>opening_ply</th>\n",
              "      <th>rating_difference</th>\n",
              "    </tr>\n",
              "  </thead>\n",
              "  <tbody>\n",
              "    <tr>\n",
              "      <th>rated</th>\n",
              "      <td>1.000000</td>\n",
              "      <td>0.087859</td>\n",
              "      <td>0.010519</td>\n",
              "      <td>0.038552</td>\n",
              "      <td>0.004216</td>\n",
              "      <td>-0.032924</td>\n",
              "    </tr>\n",
              "    <tr>\n",
              "      <th>turns</th>\n",
              "      <td>0.087859</td>\n",
              "      <td>1.000000</td>\n",
              "      <td>0.131953</td>\n",
              "      <td>0.161340</td>\n",
              "      <td>0.047490</td>\n",
              "      <td>-0.035129</td>\n",
              "    </tr>\n",
              "    <tr>\n",
              "      <th>white_rating</th>\n",
              "      <td>0.010519</td>\n",
              "      <td>0.131953</td>\n",
              "      <td>1.000000</td>\n",
              "      <td>0.634758</td>\n",
              "      <td>0.245077</td>\n",
              "      <td>0.423175</td>\n",
              "    </tr>\n",
              "    <tr>\n",
              "      <th>black_rating</th>\n",
              "      <td>0.038552</td>\n",
              "      <td>0.161340</td>\n",
              "      <td>0.634758</td>\n",
              "      <td>1.000000</td>\n",
              "      <td>0.228403</td>\n",
              "      <td>-0.431499</td>\n",
              "    </tr>\n",
              "    <tr>\n",
              "      <th>opening_ply</th>\n",
              "      <td>0.004216</td>\n",
              "      <td>0.047490</td>\n",
              "      <td>0.245077</td>\n",
              "      <td>0.228403</td>\n",
              "      <td>1.000000</td>\n",
              "      <td>0.018303</td>\n",
              "    </tr>\n",
              "    <tr>\n",
              "      <th>rating_difference</th>\n",
              "      <td>-0.032924</td>\n",
              "      <td>-0.035129</td>\n",
              "      <td>0.423175</td>\n",
              "      <td>-0.431499</td>\n",
              "      <td>0.018303</td>\n",
              "      <td>1.000000</td>\n",
              "    </tr>\n",
              "  </tbody>\n",
              "</table>\n",
              "</div>\n",
              "      <button class=\"colab-df-convert\" onclick=\"convertToInteractive('df-8bf2e5e8-48f1-45cf-9311-d2902eae1e6a')\"\n",
              "              title=\"Convert this dataframe to an interactive table.\"\n",
              "              style=\"display:none;\">\n",
              "        \n",
              "  <svg xmlns=\"http://www.w3.org/2000/svg\" height=\"24px\"viewBox=\"0 0 24 24\"\n",
              "       width=\"24px\">\n",
              "    <path d=\"M0 0h24v24H0V0z\" fill=\"none\"/>\n",
              "    <path d=\"M18.56 5.44l.94 2.06.94-2.06 2.06-.94-2.06-.94-.94-2.06-.94 2.06-2.06.94zm-11 1L8.5 8.5l.94-2.06 2.06-.94-2.06-.94L8.5 2.5l-.94 2.06-2.06.94zm10 10l.94 2.06.94-2.06 2.06-.94-2.06-.94-.94-2.06-.94 2.06-2.06.94z\"/><path d=\"M17.41 7.96l-1.37-1.37c-.4-.4-.92-.59-1.43-.59-.52 0-1.04.2-1.43.59L10.3 9.45l-7.72 7.72c-.78.78-.78 2.05 0 2.83L4 21.41c.39.39.9.59 1.41.59.51 0 1.02-.2 1.41-.59l7.78-7.78 2.81-2.81c.8-.78.8-2.07 0-2.86zM5.41 20L4 18.59l7.72-7.72 1.47 1.35L5.41 20z\"/>\n",
              "  </svg>\n",
              "      </button>\n",
              "      \n",
              "  <style>\n",
              "    .colab-df-container {\n",
              "      display:flex;\n",
              "      flex-wrap:wrap;\n",
              "      gap: 12px;\n",
              "    }\n",
              "\n",
              "    .colab-df-convert {\n",
              "      background-color: #E8F0FE;\n",
              "      border: none;\n",
              "      border-radius: 50%;\n",
              "      cursor: pointer;\n",
              "      display: none;\n",
              "      fill: #1967D2;\n",
              "      height: 32px;\n",
              "      padding: 0 0 0 0;\n",
              "      width: 32px;\n",
              "    }\n",
              "\n",
              "    .colab-df-convert:hover {\n",
              "      background-color: #E2EBFA;\n",
              "      box-shadow: 0px 1px 2px rgba(60, 64, 67, 0.3), 0px 1px 3px 1px rgba(60, 64, 67, 0.15);\n",
              "      fill: #174EA6;\n",
              "    }\n",
              "\n",
              "    [theme=dark] .colab-df-convert {\n",
              "      background-color: #3B4455;\n",
              "      fill: #D2E3FC;\n",
              "    }\n",
              "\n",
              "    [theme=dark] .colab-df-convert:hover {\n",
              "      background-color: #434B5C;\n",
              "      box-shadow: 0px 1px 3px 1px rgba(0, 0, 0, 0.15);\n",
              "      filter: drop-shadow(0px 1px 2px rgba(0, 0, 0, 0.3));\n",
              "      fill: #FFFFFF;\n",
              "    }\n",
              "  </style>\n",
              "\n",
              "      <script>\n",
              "        const buttonEl =\n",
              "          document.querySelector('#df-8bf2e5e8-48f1-45cf-9311-d2902eae1e6a button.colab-df-convert');\n",
              "        buttonEl.style.display =\n",
              "          google.colab.kernel.accessAllowed ? 'block' : 'none';\n",
              "\n",
              "        async function convertToInteractive(key) {\n",
              "          const element = document.querySelector('#df-8bf2e5e8-48f1-45cf-9311-d2902eae1e6a');\n",
              "          const dataTable =\n",
              "            await google.colab.kernel.invokeFunction('convertToInteractive',\n",
              "                                                     [key], {});\n",
              "          if (!dataTable) return;\n",
              "\n",
              "          const docLinkHtml = 'Like what you see? Visit the ' +\n",
              "            '<a target=\"_blank\" href=https://colab.research.google.com/notebooks/data_table.ipynb>data table notebook</a>'\n",
              "            + ' to learn more about interactive tables.';\n",
              "          element.innerHTML = '';\n",
              "          dataTable['output_type'] = 'display_data';\n",
              "          await google.colab.output.renderOutput(dataTable, element);\n",
              "          const docLink = document.createElement('div');\n",
              "          docLink.innerHTML = docLinkHtml;\n",
              "          element.appendChild(docLink);\n",
              "        }\n",
              "      </script>\n",
              "    </div>\n",
              "  </div>\n",
              "  "
            ]
          },
          "metadata": {},
          "execution_count": 15
        }
      ]
    },
    {
      "cell_type": "code",
      "source": [
        "sns.heatmap(games.corr(), annot=True)\n",
        "plt.show()"
      ],
      "metadata": {
        "colab": {
          "base_uri": "https://localhost:8080/",
          "height": 345
        },
        "id": "ar-h8hNd72Lt",
        "outputId": "1ee3897e-e558-471e-e662-9e5344a573cc"
      },
      "execution_count": null,
      "outputs": [
        {
          "output_type": "display_data",
          "data": {
            "text/plain": [
              "<Figure size 432x288 with 2 Axes>"
            ],
            "image/png": "[encoded data removed]"
          },
          "metadata": {
            "needs_background": "light"
          }
        }
      ]
    },
    {
      "cell_type": "markdown",
      "source": [
        "There doesn't seem to be too much high correlation present besides white and black rating although these two in should be correlated since the matching making system would most likely match players of similar ranking to prevent newer players getting badly beaten by more expiercened players.\n",
        "\n"
      ],
      "metadata": {
        "id": "x9nQ1ilmQgVR"
      }
    },
    {
      "cell_type": "markdown",
      "source": [
        "Now, let's get to one-hot encoding our dataset. We will encode the victory status, winner, increment code, and the opening eco, which represents the regulated code for what opening was played. "
      ],
      "metadata": {
        "id": "wdjzpfFGuiar"
      }
    },
    {
      "cell_type": "code",
      "source": [
        "len(games['victory_status'].value_counts()), len(games['winner'].value_counts()), len(games['increment_code'].value_counts()), len(games['opening_eco'].value_counts())"
      ],
      "metadata": {
        "colab": {
          "base_uri": "https://localhost:8080/"
        },
        "id": "Z4tA95U4te1j",
        "outputId": "27f664ce-da21-48ae-8c4f-4e1cff5b42ce"
      },
      "execution_count": null,
      "outputs": [
        {
          "output_type": "execute_result",
          "data": {
            "text/plain": [
              "(4, 3, 82, 224)"
            ]
          },
          "metadata": {},
          "execution_count": 17
        }
      ]
    },
    {
      "cell_type": "code",
      "source": [
        "games_pre_one_hot = games"
      ],
      "metadata": {
        "id": "dCQUeJat8zdp"
      },
      "execution_count": null,
      "outputs": []
    },
    {
      "cell_type": "markdown",
      "source": [
        "But it seems like there are a lot of openings. "
      ],
      "metadata": {
        "id": "mNWj7U6EvYb1"
      }
    },
    {
      "cell_type": "code",
      "source": [
        "from sklearn.preprocessing import OneHotEncoder\n",
        "\n",
        "vict_dummies = pd.get_dummies(games.victory_status)\n",
        "winn_dummies = pd.get_dummies(games.winner)\n",
        "incr_dummies = pd.get_dummies(games.increment_code)\n",
        "open_dummies = pd.get_dummies(games.opening_eco)\n",
        "games = pd.concat([games, vict_dummies], axis=1)\n",
        "games = pd.concat([games, winn_dummies], axis=1)\n",
        "games = pd.concat([games, incr_dummies], axis=1)\n",
        "games = pd.concat([games, open_dummies], axis=1)\n",
        "\n",
        "games"
      ],
      "metadata": {
        "colab": {
          "base_uri": "https://localhost:8080/",
          "height": 424
        },
        "id": "9dpay3PJu4mk",
        "outputId": "45629380-12e2-4d07-fcb3-f46ca350f64a"
      },
      "execution_count": null,
      "outputs": [
        {
          "output_type": "execute_result",
          "data": {
            "text/plain": [
              "             id  rated  turns victory_status winner increment_code  \\\n",
              "0      TZJHLljE      0     13      outoftime  white           15+2   \n",
              "1      l1NXvwaE      1     16         resign  black           5+10   \n",
              "2      mIICvQHh      1     61           mate  white           5+10   \n",
              "3      kWKvrqYL      1     61           mate  white           20+0   \n",
              "5      MsoDV9wj      0      5           draw   draw           10+0   \n",
              "...         ...    ...    ...            ...    ...            ...   \n",
              "20053  EfqH7VVH      1     24         resign  white          10+10   \n",
              "20054  WSJDhbPl      1     82           mate  black           10+0   \n",
              "20055  yrAas0Kj      1     35           mate  white           10+0   \n",
              "20056  b0v4tRyF      1    109         resign  white           10+0   \n",
              "20057  N8G2JHGG      1     78           mate  black           10+0   \n",
              "\n",
              "       white_rating  black_rating opening_eco  opening_ply  ...  E34  E60  \\\n",
              "0              1500          1191         D10            5  ...    0    0   \n",
              "1              1322          1261         B00            4  ...    0    0   \n",
              "2              1496          1500         C20            3  ...    0    0   \n",
              "3              1439          1454         D02            3  ...    0    0   \n",
              "5              1250          1002         B27            4  ...    0    0   \n",
              "...             ...           ...         ...          ...  ...  ...  ...   \n",
              "20053          1691          1220         A80            2  ...    0    0   \n",
              "20054          1233          1196         A41            2  ...    0    0   \n",
              "20055          1219          1286         D00            3  ...    0    0   \n",
              "20056          1360          1227         B07            4  ...    0    0   \n",
              "20057          1235          1339         D00            3  ...    0    0   \n",
              "\n",
              "       E61  E70  E76  E77  E80  E81  E90  E91  \n",
              "0        0    0    0    0    0    0    0    0  \n",
              "1        0    0    0    0    0    0    0    0  \n",
              "2        0    0    0    0    0    0    0    0  \n",
              "3        0    0    0    0    0    0    0    0  \n",
              "5        0    0    0    0    0    0    0    0  \n",
              "...    ...  ...  ...  ...  ...  ...  ...  ...  \n",
              "20053    0    0    0    0    0    0    0    0  \n",
              "20054    0    0    0    0    0    0    0    0  \n",
              "20055    0    0    0    0    0    0    0    0  \n",
              "20056    0    0    0    0    0    0    0    0  \n",
              "20057    0    0    0    0    0    0    0    0  \n",
              "\n",
              "[18241 rows x 324 columns]"
            ],
            "text/html": [
              "\n",
              "  <div id=\"df-60881498-0b03-4138-8589-9aca5048262d\">\n",
              "    <div class=\"colab-df-container\">\n",
              "      <div>\n",
              "<style scoped>\n",
              "    .dataframe tbody tr th:only-of-type {\n",
              "        vertical-align: middle;\n",
              "    }\n",
              "\n",
              "    .dataframe tbody tr th {\n",
              "        vertical-align: top;\n",
              "    }\n",
              "\n",
              "    .dataframe thead th {\n",
              "        text-align: right;\n",
              "    }\n",
              "</style>\n",
              "<table border=\"1\" class=\"dataframe\">\n",
              "  <thead>\n",
              "    <tr style=\"text-align: right;\">\n",
              "      <th></th>\n",
              "      <th>id</th>\n",
              "      <th>rated</th>\n",
              "      <th>turns</th>\n",
              "      <th>victory_status</th>\n",
              "      <th>winner</th>\n",
              "      <th>increment_code</th>\n",
              "      <th>white_rating</th>\n",
              "      <th>black_rating</th>\n",
              "      <th>opening_eco</th>\n",
              "      <th>opening_ply</th>\n",
              "      <th>...</th>\n",
              "      <th>E34</th>\n",
              "      <th>E60</th>\n",
              "      <th>E61</th>\n",
              "      <th>E70</th>\n",
              "      <th>E76</th>\n",
              "      <th>E77</th>\n",
              "      <th>E80</th>\n",
              "      <th>E81</th>\n",
              "      <th>E90</th>\n",
              "      <th>E91</th>\n",
              "    </tr>\n",
              "  </thead>\n",
              "  <tbody>\n",
              "    <tr>\n",
              "      <th>0</th>\n",
              "      <td>TZJHLljE</td>\n",
              "      <td>0</td>\n",
              "      <td>13</td>\n",
              "      <td>outoftime</td>\n",
              "      <td>white</td>\n",
              "      <td>15+2</td>\n",
              "      <td>1500</td>\n",
              "      <td>1191</td>\n",
              "      <td>D10</td>\n",
              "      <td>5</td>\n",
              "      <td>...</td>\n",
              "      <td>0</td>\n",
              "      <td>0</td>\n",
              "      <td>0</td>\n",
              "      <td>0</td>\n",
              "      <td>0</td>\n",
              "      <td>0</td>\n",
              "      <td>0</td>\n",
              "      <td>0</td>\n",
              "      <td>0</td>\n",
              "      <td>0</td>\n",
              "    </tr>\n",
              "    <tr>\n",
              "      <th>1</th>\n",
              "      <td>l1NXvwaE</td>\n",
              "      <td>1</td>\n",
              "      <td>16</td>\n",
              "      <td>resign</td>\n",
              "      <td>black</td>\n",
              "      <td>5+10</td>\n",
              "      <td>1322</td>\n",
              "      <td>1261</td>\n",
              "      <td>B00</td>\n",
              "      <td>4</td>\n",
              "      <td>...</td>\n",
              "      <td>0</td>\n",
              "      <td>0</td>\n",
              "      <td>0</td>\n",
              "      <td>0</td>\n",
              "      <td>0</td>\n",
              "      <td>0</td>\n",
              "      <td>0</td>\n",
              "      <td>0</td>\n",
              "      <td>0</td>\n",
              "      <td>0</td>\n",
              "    </tr>\n",
              "    <tr>\n",
              "      <th>2</th>\n",
              "      <td>mIICvQHh</td>\n",
              "      <td>1</td>\n",
              "      <td>61</td>\n",
              "      <td>mate</td>\n",
              "      <td>white</td>\n",
              "      <td>5+10</td>\n",
              "      <td>1496</td>\n",
              "      <td>1500</td>\n",
              "      <td>C20</td>\n",
              "      <td>3</td>\n",
              "      <td>...</td>\n",
              "      <td>0</td>\n",
              "      <td>0</td>\n",
              "      <td>0</td>\n",
              "      <td>0</td>\n",
              "      <td>0</td>\n",
              "      <td>0</td>\n",
              "      <td>0</td>\n",
              "      <td>0</td>\n",
              "      <td>0</td>\n",
              "      <td>0</td>\n",
              "    </tr>\n",
              "    <tr>\n",
              "      <th>3</th>\n",
              "      <td>kWKvrqYL</td>\n",
              "      <td>1</td>\n",
              "      <td>61</td>\n",
              "      <td>mate</td>\n",
              "      <td>white</td>\n",
              "      <td>20+0</td>\n",
              "      <td>1439</td>\n",
              "      <td>1454</td>\n",
              "      <td>D02</td>\n",
              "      <td>3</td>\n",
              "      <td>...</td>\n",
              "      <td>0</td>\n",
              "      <td>0</td>\n",
              "      <td>0</td>\n",
              "      <td>0</td>\n",
              "      <td>0</td>\n",
              "      <td>0</td>\n",
              "      <td>0</td>\n",
              "      <td>0</td>\n",
              "      <td>0</td>\n",
              "      <td>0</td>\n",
              "    </tr>\n",
              "    <tr>\n",
              "      <th>5</th>\n",
              "      <td>MsoDV9wj</td>\n",
              "      <td>0</td>\n",
              "      <td>5</td>\n",
              "      <td>draw</td>\n",
              "      <td>draw</td>\n",
              "      <td>10+0</td>\n",
              "      <td>1250</td>\n",
              "      <td>1002</td>\n",
              "      <td>B27</td>\n",
              "      <td>4</td>\n",
              "      <td>...</td>\n",
              "      <td>0</td>\n",
              "      <td>0</td>\n",
              "      <td>0</td>\n",
              "      <td>0</td>\n",
              "      <td>0</td>\n",
              "      <td>0</td>\n",
              "      <td>0</td>\n",
              "      <td>0</td>\n",
              "      <td>0</td>\n",
              "      <td>0</td>\n",
              "    </tr>\n",
              "    <tr>\n",
              "      <th>...</th>\n",
              "      <td>...</td>\n",
              "      <td>...</td>\n",
              "      <td>...</td>\n",
              "      <td>...</td>\n",
              "      <td>...</td>\n",
              "      <td>...</td>\n",
              "      <td>...</td>\n",
              "      <td>...</td>\n",
              "      <td>...</td>\n",
              "      <td>...</td>\n",
              "      <td>...</td>\n",
              "      <td>...</td>\n",
              "      <td>...</td>\n",
              "      <td>...</td>\n",
              "      <td>...</td>\n",
              "      <td>...</td>\n",
              "      <td>...</td>\n",
              "      <td>...</td>\n",
              "      <td>...</td>\n",
              "      <td>...</td>\n",
              "      <td>...</td>\n",
              "    </tr>\n",
              "    <tr>\n",
              "      <th>20053</th>\n",
              "      <td>EfqH7VVH</td>\n",
              "      <td>1</td>\n",
              "      <td>24</td>\n",
              "      <td>resign</td>\n",
              "      <td>white</td>\n",
              "      <td>10+10</td>\n",
              "      <td>1691</td>\n",
              "      <td>1220</td>\n",
              "      <td>A80</td>\n",
              "      <td>2</td>\n",
              "      <td>...</td>\n",
              "      <td>0</td>\n",
              "      <td>0</td>\n",
              "      <td>0</td>\n",
              "      <td>0</td>\n",
              "      <td>0</td>\n",
              "      <td>0</td>\n",
              "      <td>0</td>\n",
              "      <td>0</td>\n",
              "      <td>0</td>\n",
              "      <td>0</td>\n",
              "    </tr>\n",
              "    <tr>\n",
              "      <th>20054</th>\n",
              "      <td>WSJDhbPl</td>\n",
              "      <td>1</td>\n",
              "      <td>82</td>\n",
              "      <td>mate</td>\n",
              "      <td>black</td>\n",
              "      <td>10+0</td>\n",
              "      <td>1233</td>\n",
              "      <td>1196</td>\n",
              "      <td>A41</td>\n",
              "      <td>2</td>\n",
              "      <td>...</td>\n",
              "      <td>0</td>\n",
              "      <td>0</td>\n",
              "      <td>0</td>\n",
              "      <td>0</td>\n",
              "      <td>0</td>\n",
              "      <td>0</td>\n",
              "      <td>0</td>\n",
              "      <td>0</td>\n",
              "      <td>0</td>\n",
              "      <td>0</td>\n",
              "    </tr>\n",
              "    <tr>\n",
              "      <th>20055</th>\n",
              "      <td>yrAas0Kj</td>\n",
              "      <td>1</td>\n",
              "      <td>35</td>\n",
              "      <td>mate</td>\n",
              "      <td>white</td>\n",
              "      <td>10+0</td>\n",
              "      <td>1219</td>\n",
              "      <td>1286</td>\n",
              "      <td>D00</td>\n",
              "      <td>3</td>\n",
              "      <td>...</td>\n",
              "      <td>0</td>\n",
              "      <td>0</td>\n",
              "      <td>0</td>\n",
              "      <td>0</td>\n",
              "      <td>0</td>\n",
              "      <td>0</td>\n",
              "      <td>0</td>\n",
              "      <td>0</td>\n",
              "      <td>0</td>\n",
              "      <td>0</td>\n",
              "    </tr>\n",
              "    <tr>\n",
              "      <th>20056</th>\n",
              "      <td>b0v4tRyF</td>\n",
              "      <td>1</td>\n",
              "      <td>109</td>\n",
              "      <td>resign</td>\n",
              "      <td>white</td>\n",
              "      <td>10+0</td>\n",
              "      <td>1360</td>\n",
              "      <td>1227</td>\n",
              "      <td>B07</td>\n",
              "      <td>4</td>\n",
              "      <td>...</td>\n",
              "      <td>0</td>\n",
              "      <td>0</td>\n",
              "      <td>0</td>\n",
              "      <td>0</td>\n",
              "      <td>0</td>\n",
              "      <td>0</td>\n",
              "      <td>0</td>\n",
              "      <td>0</td>\n",
              "      <td>0</td>\n",
              "      <td>0</td>\n",
              "    </tr>\n",
              "    <tr>\n",
              "      <th>20057</th>\n",
              "      <td>N8G2JHGG</td>\n",
              "      <td>1</td>\n",
              "      <td>78</td>\n",
              "      <td>mate</td>\n",
              "      <td>black</td>\n",
              "      <td>10+0</td>\n",
              "      <td>1235</td>\n",
              "      <td>1339</td>\n",
              "      <td>D00</td>\n",
              "      <td>3</td>\n",
              "      <td>...</td>\n",
              "      <td>0</td>\n",
              "      <td>0</td>\n",
              "      <td>0</td>\n",
              "      <td>0</td>\n",
              "      <td>0</td>\n",
              "      <td>0</td>\n",
              "      <td>0</td>\n",
              "      <td>0</td>\n",
              "      <td>0</td>\n",
              "      <td>0</td>\n",
              "    </tr>\n",
              "  </tbody>\n",
              "</table>\n",
              "<p>18241 rows × 324 columns</p>\n",
              "</div>\n",
              "      <button class=\"colab-df-convert\" onclick=\"convertToInteractive('df-60881498-0b03-4138-8589-9aca5048262d')\"\n",
              "              title=\"Convert this dataframe to an interactive table.\"\n",
              "              style=\"display:none;\">\n",
              "        \n",
              "  <svg xmlns=\"http://www.w3.org/2000/svg\" height=\"24px\"viewBox=\"0 0 24 24\"\n",
              "       width=\"24px\">\n",
              "    <path d=\"M0 0h24v24H0V0z\" fill=\"none\"/>\n",
              "    <path d=\"M18.56 5.44l.94 2.06.94-2.06 2.06-.94-2.06-.94-.94-2.06-.94 2.06-2.06.94zm-11 1L8.5 8.5l.94-2.06 2.06-.94-2.06-.94L8.5 2.5l-.94 2.06-2.06.94zm10 10l.94 2.06.94-2.06 2.06-.94-2.06-.94-.94-2.06-.94 2.06-2.06.94z\"/><path d=\"M17.41 7.96l-1.37-1.37c-.4-.4-.92-.59-1.43-.59-.52 0-1.04.2-1.43.59L10.3 9.45l-7.72 7.72c-.78.78-.78 2.05 0 2.83L4 21.41c.39.39.9.59 1.41.59.51 0 1.02-.2 1.41-.59l7.78-7.78 2.81-2.81c.8-.78.8-2.07 0-2.86zM5.41 20L4 18.59l7.72-7.72 1.47 1.35L5.41 20z\"/>\n",
              "  </svg>\n",
              "      </button>\n",
              "      \n",
              "  <style>\n",
              "    .colab-df-container {\n",
              "      display:flex;\n",
              "      flex-wrap:wrap;\n",
              "      gap: 12px;\n",
              "    }\n",
              "\n",
              "    .colab-df-convert {\n",
              "      background-color: #E8F0FE;\n",
              "      border: none;\n",
              "      border-radius: 50%;\n",
              "      cursor: pointer;\n",
              "      display: none;\n",
              "      fill: #1967D2;\n",
              "      height: 32px;\n",
              "      padding: 0 0 0 0;\n",
              "      width: 32px;\n",
              "    }\n",
              "\n",
              "    .colab-df-convert:hover {\n",
              "      background-color: #E2EBFA;\n",
              "      box-shadow: 0px 1px 2px rgba(60, 64, 67, 0.3), 0px 1px 3px 1px rgba(60, 64, 67, 0.15);\n",
              "      fill: #174EA6;\n",
              "    }\n",
              "\n",
              "    [theme=dark] .colab-df-convert {\n",
              "      background-color: #3B4455;\n",
              "      fill: #D2E3FC;\n",
              "    }\n",
              "\n",
              "    [theme=dark] .colab-df-convert:hover {\n",
              "      background-color: #434B5C;\n",
              "      box-shadow: 0px 1px 3px 1px rgba(0, 0, 0, 0.15);\n",
              "      filter: drop-shadow(0px 1px 2px rgba(0, 0, 0, 0.3));\n",
              "      fill: #FFFFFF;\n",
              "    }\n",
              "  </style>\n",
              "\n",
              "      <script>\n",
              "        const buttonEl =\n",
              "          document.querySelector('#df-60881498-0b03-4138-8589-9aca5048262d button.colab-df-convert');\n",
              "        buttonEl.style.display =\n",
              "          google.colab.kernel.accessAllowed ? 'block' : 'none';\n",
              "\n",
              "        async function convertToInteractive(key) {\n",
              "          const element = document.querySelector('#df-60881498-0b03-4138-8589-9aca5048262d');\n",
              "          const dataTable =\n",
              "            await google.colab.kernel.invokeFunction('convertToInteractive',\n",
              "                                                     [key], {});\n",
              "          if (!dataTable) return;\n",
              "\n",
              "          const docLinkHtml = 'Like what you see? Visit the ' +\n",
              "            '<a target=\"_blank\" href=https://colab.research.google.com/notebooks/data_table.ipynb>data table notebook</a>'\n",
              "            + ' to learn more about interactive tables.';\n",
              "          element.innerHTML = '';\n",
              "          dataTable['output_type'] = 'display_data';\n",
              "          await google.colab.output.renderOutput(dataTable, element);\n",
              "          const docLink = document.createElement('div');\n",
              "          docLink.innerHTML = docLinkHtml;\n",
              "          element.appendChild(docLink);\n",
              "        }\n",
              "      </script>\n",
              "    </div>\n",
              "  </div>\n",
              "  "
            ]
          },
          "metadata": {},
          "execution_count": 19
        }
      ]
    },
    {
      "cell_type": "code",
      "source": [
        "games['white_rating'].value_counts()"
      ],
      "metadata": {
        "colab": {
          "base_uri": "https://localhost:8080/"
        },
        "id": "NEBFTAQr1OoU",
        "outputId": "4244825f-4831-413e-de7f-d7723b3ffe48"
      },
      "execution_count": null,
      "outputs": [
        {
          "output_type": "execute_result",
          "data": {
            "text/plain": [
              "1500    710\n",
              "1480     49\n",
              "1400     45\n",
              "1708     45\n",
              "1536     45\n",
              "       ... \n",
              "2298      1\n",
              "2248      1\n",
              "2430      1\n",
              "974       1\n",
              "880       1\n",
              "Name: white_rating, Length: 1481, dtype: int64"
            ]
          },
          "metadata": {},
          "execution_count": 20
        }
      ]
    },
    {
      "cell_type": "markdown",
      "source": [
        "Now we can visualize the data to see what features have correlation. Firsly, the white and black ratings should be "
      ],
      "metadata": {
        "id": "mTMcDY7DPalW"
      }
    },
    {
      "cell_type": "code",
      "source": [
        "plt.hist(games['white_rating'], edgecolor='black', bins = 66, color = 'lightgrey');"
      ],
      "metadata": {
        "colab": {
          "base_uri": "https://localhost:8080/",
          "height": 265
        },
        "id": "YWS3619Jv_zd",
        "outputId": "2d8aa8b4-0e34-42e5-dad2-9d43665c9c02"
      },
      "execution_count": null,
      "outputs": [
        {
          "output_type": "display_data",
          "data": {
            "text/plain": [
              "<Figure size 432x288 with 1 Axes>"
            ],
            "image/png": "[encoded data removed]"
          },
          "metadata": {
            "needs_background": "light"
          }
        }
      ]
    },
    {
      "cell_type": "code",
      "source": [
        "plt.hist(games['black_rating'], edgecolor='grey', bins = 50, color = 'black');"
      ],
      "metadata": {
        "colab": {
          "base_uri": "https://localhost:8080/",
          "height": 265
        },
        "id": "Fo0_opTFwr_v",
        "outputId": "27b1f496-c50f-4d38-ad4c-e742d50cab30"
      },
      "execution_count": null,
      "outputs": [
        {
          "output_type": "display_data",
          "data": {
            "text/plain": [
              "<Figure size 432x288 with 1 Axes>"
            ],
            "image/png": "[encoded data removed]"
          },
          "metadata": {
            "needs_background": "light"
          }
        }
      ]
    },
    {
      "cell_type": "markdown",
      "source": [
        "The large bump at 1500 represents the default score of a chess.com player. When a person makes an account, their elo is set to 1500. Their elo stays at 1500 into the player has played 10 games, so any player at 1500 is not a good representat 0f their elo. "
      ],
      "metadata": {
        "id": "oTNjlPQ1R4TI"
      }
    },
    {
      "cell_type": "markdown",
      "source": [
        "it seems like the 1500 ratings are skewing the data. "
      ],
      "metadata": {
        "id": "KEMmGdtwTbyN"
      }
    },
    {
      "cell_type": "code",
      "source": [
        "games = games[games.black_rating != 1500]\n",
        "games = games[games.white_rating != 1500]\n",
        "games"
      ],
      "metadata": {
        "colab": {
          "base_uri": "https://localhost:8080/",
          "height": 424
        },
        "id": "AOgbRpy8PT0_",
        "outputId": "4f452a94-544b-4027-9513-4b928cdcae59"
      },
      "execution_count": null,
      "outputs": [
        {
          "output_type": "execute_result",
          "data": {
            "text/plain": [
              "             id  rated  turns victory_status winner increment_code  \\\n",
              "1      l1NXvwaE      1     16         resign  black           5+10   \n",
              "3      kWKvrqYL      1     61           mate  white           20+0   \n",
              "5      MsoDV9wj      0      5           draw   draw           10+0   \n",
              "6      qwU9rasv      1     33         resign  white           10+0   \n",
              "8      dwF3DJHO      1     66         resign  black           15+0   \n",
              "...         ...    ...    ...            ...    ...            ...   \n",
              "20053  EfqH7VVH      1     24         resign  white          10+10   \n",
              "20054  WSJDhbPl      1     82           mate  black           10+0   \n",
              "20055  yrAas0Kj      1     35           mate  white           10+0   \n",
              "20056  b0v4tRyF      1    109         resign  white           10+0   \n",
              "20057  N8G2JHGG      1     78           mate  black           10+0   \n",
              "\n",
              "       white_rating  black_rating opening_eco  opening_ply  ...  E34  E60  \\\n",
              "1              1322          1261         B00            4  ...    0    0   \n",
              "3              1439          1454         D02            3  ...    0    0   \n",
              "5              1250          1002         B27            4  ...    0    0   \n",
              "6              1520          1423         D00           10  ...    0    0   \n",
              "8              1439          1392         C50            6  ...    0    0   \n",
              "...             ...           ...         ...          ...  ...  ...  ...   \n",
              "20053          1691          1220         A80            2  ...    0    0   \n",
              "20054          1233          1196         A41            2  ...    0    0   \n",
              "20055          1219          1286         D00            3  ...    0    0   \n",
              "20056          1360          1227         B07            4  ...    0    0   \n",
              "20057          1235          1339         D00            3  ...    0    0   \n",
              "\n",
              "       E61  E70  E76  E77  E80  E81  E90  E91  \n",
              "1        0    0    0    0    0    0    0    0  \n",
              "3        0    0    0    0    0    0    0    0  \n",
              "5        0    0    0    0    0    0    0    0  \n",
              "6        0    0    0    0    0    0    0    0  \n",
              "8        0    0    0    0    0    0    0    0  \n",
              "...    ...  ...  ...  ...  ...  ...  ...  ...  \n",
              "20053    0    0    0    0    0    0    0    0  \n",
              "20054    0    0    0    0    0    0    0    0  \n",
              "20055    0    0    0    0    0    0    0    0  \n",
              "20056    0    0    0    0    0    0    0    0  \n",
              "20057    0    0    0    0    0    0    0    0  \n",
              "\n",
              "[16931 rows x 324 columns]"
            ],
            "text/html": [
              "\n",
              "  <div id=\"df-4e853a46-76fc-4095-9fe8-2a95feb66bbf\">\n",
              "    <div class=\"colab-df-container\">\n",
              "      <div>\n",
              "<style scoped>\n",
              "    .dataframe tbody tr th:only-of-type {\n",
              "        vertical-align: middle;\n",
              "    }\n",
              "\n",
              "    .dataframe tbody tr th {\n",
              "        vertical-align: top;\n",
              "    }\n",
              "\n",
              "    .dataframe thead th {\n",
              "        text-align: right;\n",
              "    }\n",
              "</style>\n",
              "<table border=\"1\" class=\"dataframe\">\n",
              "  <thead>\n",
              "    <tr style=\"text-align: right;\">\n",
              "      <th></th>\n",
              "      <th>id</th>\n",
              "      <th>rated</th>\n",
              "      <th>turns</th>\n",
              "      <th>victory_status</th>\n",
              "      <th>winner</th>\n",
              "      <th>increment_code</th>\n",
              "      <th>white_rating</th>\n",
              "      <th>black_rating</th>\n",
              "      <th>opening_eco</th>\n",
              "      <th>opening_ply</th>\n",
              "      <th>...</th>\n",
              "      <th>E34</th>\n",
              "      <th>E60</th>\n",
              "      <th>E61</th>\n",
              "      <th>E70</th>\n",
              "      <th>E76</th>\n",
              "      <th>E77</th>\n",
              "      <th>E80</th>\n",
              "      <th>E81</th>\n",
              "      <th>E90</th>\n",
              "      <th>E91</th>\n",
              "    </tr>\n",
              "  </thead>\n",
              "  <tbody>\n",
              "    <tr>\n",
              "      <th>1</th>\n",
              "      <td>l1NXvwaE</td>\n",
              "      <td>1</td>\n",
              "      <td>16</td>\n",
              "      <td>resign</td>\n",
              "      <td>black</td>\n",
              "      <td>5+10</td>\n",
              "      <td>1322</td>\n",
              "      <td>1261</td>\n",
              "      <td>B00</td>\n",
              "      <td>4</td>\n",
              "      <td>...</td>\n",
              "      <td>0</td>\n",
              "      <td>0</td>\n",
              "      <td>0</td>\n",
              "      <td>0</td>\n",
              "      <td>0</td>\n",
              "      <td>0</td>\n",
              "      <td>0</td>\n",
              "      <td>0</td>\n",
              "      <td>0</td>\n",
              "      <td>0</td>\n",
              "    </tr>\n",
              "    <tr>\n",
              "      <th>3</th>\n",
              "      <td>kWKvrqYL</td>\n",
              "      <td>1</td>\n",
              "      <td>61</td>\n",
              "      <td>mate</td>\n",
              "      <td>white</td>\n",
              "      <td>20+0</td>\n",
              "      <td>1439</td>\n",
              "      <td>1454</td>\n",
              "      <td>D02</td>\n",
              "      <td>3</td>\n",
              "      <td>...</td>\n",
              "      <td>0</td>\n",
              "      <td>0</td>\n",
              "      <td>0</td>\n",
              "      <td>0</td>\n",
              "      <td>0</td>\n",
              "      <td>0</td>\n",
              "      <td>0</td>\n",
              "      <td>0</td>\n",
              "      <td>0</td>\n",
              "      <td>0</td>\n",
              "    </tr>\n",
              "    <tr>\n",
              "      <th>5</th>\n",
              "      <td>MsoDV9wj</td>\n",
              "      <td>0</td>\n",
              "      <td>5</td>\n",
              "      <td>draw</td>\n",
              "      <td>draw</td>\n",
              "      <td>10+0</td>\n",
              "      <td>1250</td>\n",
              "      <td>1002</td>\n",
              "      <td>B27</td>\n",
              "      <td>4</td>\n",
              "      <td>...</td>\n",
              "      <td>0</td>\n",
              "      <td>0</td>\n",
              "      <td>0</td>\n",
              "      <td>0</td>\n",
              "      <td>0</td>\n",
              "      <td>0</td>\n",
              "      <td>0</td>\n",
              "      <td>0</td>\n",
              "      <td>0</td>\n",
              "      <td>0</td>\n",
              "    </tr>\n",
              "    <tr>\n",
              "      <th>6</th>\n",
              "      <td>qwU9rasv</td>\n",
              "      <td>1</td>\n",
              "      <td>33</td>\n",
              "      <td>resign</td>\n",
              "      <td>white</td>\n",
              "      <td>10+0</td>\n",
              "      <td>1520</td>\n",
              "      <td>1423</td>\n",
              "      <td>D00</td>\n",
              "      <td>10</td>\n",
              "      <td>...</td>\n",
              "      <td>0</td>\n",
              "      <td>0</td>\n",
              "      <td>0</td>\n",
              "      <td>0</td>\n",
              "      <td>0</td>\n",
              "      <td>0</td>\n",
              "      <td>0</td>\n",
              "      <td>0</td>\n",
              "      <td>0</td>\n",
              "      <td>0</td>\n",
              "    </tr>\n",
              "    <tr>\n",
              "      <th>8</th>\n",
              "      <td>dwF3DJHO</td>\n",
              "      <td>1</td>\n",
              "      <td>66</td>\n",
              "      <td>resign</td>\n",
              "      <td>black</td>\n",
              "      <td>15+0</td>\n",
              "      <td>1439</td>\n",
              "      <td>1392</td>\n",
              "      <td>C50</td>\n",
              "      <td>6</td>\n",
              "      <td>...</td>\n",
              "      <td>0</td>\n",
              "      <td>0</td>\n",
              "      <td>0</td>\n",
              "      <td>0</td>\n",
              "      <td>0</td>\n",
              "      <td>0</td>\n",
              "      <td>0</td>\n",
              "      <td>0</td>\n",
              "      <td>0</td>\n",
              "      <td>0</td>\n",
              "    </tr>\n",
              "    <tr>\n",
              "      <th>...</th>\n",
              "      <td>...</td>\n",
              "      <td>...</td>\n",
              "      <td>...</td>\n",
              "      <td>...</td>\n",
              "      <td>...</td>\n",
              "      <td>...</td>\n",
              "      <td>...</td>\n",
              "      <td>...</td>\n",
              "      <td>...</td>\n",
              "      <td>...</td>\n",
              "      <td>...</td>\n",
              "      <td>...</td>\n",
              "      <td>...</td>\n",
              "      <td>...</td>\n",
              "      <td>...</td>\n",
              "      <td>...</td>\n",
              "      <td>...</td>\n",
              "      <td>...</td>\n",
              "      <td>...</td>\n",
              "      <td>...</td>\n",
              "      <td>...</td>\n",
              "    </tr>\n",
              "    <tr>\n",
              "      <th>20053</th>\n",
              "      <td>EfqH7VVH</td>\n",
              "      <td>1</td>\n",
              "      <td>24</td>\n",
              "      <td>resign</td>\n",
              "      <td>white</td>\n",
              "      <td>10+10</td>\n",
              "      <td>1691</td>\n",
              "      <td>1220</td>\n",
              "      <td>A80</td>\n",
              "      <td>2</td>\n",
              "      <td>...</td>\n",
              "      <td>0</td>\n",
              "      <td>0</td>\n",
              "      <td>0</td>\n",
              "      <td>0</td>\n",
              "      <td>0</td>\n",
              "      <td>0</td>\n",
              "      <td>0</td>\n",
              "      <td>0</td>\n",
              "      <td>0</td>\n",
              "      <td>0</td>\n",
              "    </tr>\n",
              "    <tr>\n",
              "      <th>20054</th>\n",
              "      <td>WSJDhbPl</td>\n",
              "      <td>1</td>\n",
              "      <td>82</td>\n",
              "      <td>mate</td>\n",
              "      <td>black</td>\n",
              "      <td>10+0</td>\n",
              "      <td>1233</td>\n",
              "      <td>1196</td>\n",
              "      <td>A41</td>\n",
              "      <td>2</td>\n",
              "      <td>...</td>\n",
              "      <td>0</td>\n",
              "      <td>0</td>\n",
              "      <td>0</td>\n",
              "      <td>0</td>\n",
              "      <td>0</td>\n",
              "      <td>0</td>\n",
              "      <td>0</td>\n",
              "      <td>0</td>\n",
              "      <td>0</td>\n",
              "      <td>0</td>\n",
              "    </tr>\n",
              "    <tr>\n",
              "      <th>20055</th>\n",
              "      <td>yrAas0Kj</td>\n",
              "      <td>1</td>\n",
              "      <td>35</td>\n",
              "      <td>mate</td>\n",
              "      <td>white</td>\n",
              "      <td>10+0</td>\n",
              "      <td>1219</td>\n",
              "      <td>1286</td>\n",
              "      <td>D00</td>\n",
              "      <td>3</td>\n",
              "      <td>...</td>\n",
              "      <td>0</td>\n",
              "      <td>0</td>\n",
              "      <td>0</td>\n",
              "      <td>0</td>\n",
              "      <td>0</td>\n",
              "      <td>0</td>\n",
              "      <td>0</td>\n",
              "      <td>0</td>\n",
              "      <td>0</td>\n",
              "      <td>0</td>\n",
              "    </tr>\n",
              "    <tr>\n",
              "      <th>20056</th>\n",
              "      <td>b0v4tRyF</td>\n",
              "      <td>1</td>\n",
              "      <td>109</td>\n",
              "      <td>resign</td>\n",
              "      <td>white</td>\n",
              "      <td>10+0</td>\n",
              "      <td>1360</td>\n",
              "      <td>1227</td>\n",
              "      <td>B07</td>\n",
              "      <td>4</td>\n",
              "      <td>...</td>\n",
              "      <td>0</td>\n",
              "      <td>0</td>\n",
              "      <td>0</td>\n",
              "      <td>0</td>\n",
              "      <td>0</td>\n",
              "      <td>0</td>\n",
              "      <td>0</td>\n",
              "      <td>0</td>\n",
              "      <td>0</td>\n",
              "      <td>0</td>\n",
              "    </tr>\n",
              "    <tr>\n",
              "      <th>20057</th>\n",
              "      <td>N8G2JHGG</td>\n",
              "      <td>1</td>\n",
              "      <td>78</td>\n",
              "      <td>mate</td>\n",
              "      <td>black</td>\n",
              "      <td>10+0</td>\n",
              "      <td>1235</td>\n",
              "      <td>1339</td>\n",
              "      <td>D00</td>\n",
              "      <td>3</td>\n",
              "      <td>...</td>\n",
              "      <td>0</td>\n",
              "      <td>0</td>\n",
              "      <td>0</td>\n",
              "      <td>0</td>\n",
              "      <td>0</td>\n",
              "      <td>0</td>\n",
              "      <td>0</td>\n",
              "      <td>0</td>\n",
              "      <td>0</td>\n",
              "      <td>0</td>\n",
              "    </tr>\n",
              "  </tbody>\n",
              "</table>\n",
              "<p>16931 rows × 324 columns</p>\n",
              "</div>\n",
              "      <button class=\"colab-df-convert\" onclick=\"convertToInteractive('df-4e853a46-76fc-4095-9fe8-2a95feb66bbf')\"\n",
              "              title=\"Convert this dataframe to an interactive table.\"\n",
              "              style=\"display:none;\">\n",
              "        \n",
              "  <svg xmlns=\"http://www.w3.org/2000/svg\" height=\"24px\"viewBox=\"0 0 24 24\"\n",
              "       width=\"24px\">\n",
              "    <path d=\"M0 0h24v24H0V0z\" fill=\"none\"/>\n",
              "    <path d=\"M18.56 5.44l.94 2.06.94-2.06 2.06-.94-2.06-.94-.94-2.06-.94 2.06-2.06.94zm-11 1L8.5 8.5l.94-2.06 2.06-.94-2.06-.94L8.5 2.5l-.94 2.06-2.06.94zm10 10l.94 2.06.94-2.06 2.06-.94-2.06-.94-.94-2.06-.94 2.06-2.06.94z\"/><path d=\"M17.41 7.96l-1.37-1.37c-.4-.4-.92-.59-1.43-.59-.52 0-1.04.2-1.43.59L10.3 9.45l-7.72 7.72c-.78.78-.78 2.05 0 2.83L4 21.41c.39.39.9.59 1.41.59.51 0 1.02-.2 1.41-.59l7.78-7.78 2.81-2.81c.8-.78.8-2.07 0-2.86zM5.41 20L4 18.59l7.72-7.72 1.47 1.35L5.41 20z\"/>\n",
              "  </svg>\n",
              "      </button>\n",
              "      \n",
              "  <style>\n",
              "    .colab-df-container {\n",
              "      display:flex;\n",
              "      flex-wrap:wrap;\n",
              "      gap: 12px;\n",
              "    }\n",
              "\n",
              "    .colab-df-convert {\n",
              "      background-color: #E8F0FE;\n",
              "      border: none;\n",
              "      border-radius: 50%;\n",
              "      cursor: pointer;\n",
              "      display: none;\n",
              "      fill: #1967D2;\n",
              "      height: 32px;\n",
              "      padding: 0 0 0 0;\n",
              "      width: 32px;\n",
              "    }\n",
              "\n",
              "    .colab-df-convert:hover {\n",
              "      background-color: #E2EBFA;\n",
              "      box-shadow: 0px 1px 2px rgba(60, 64, 67, 0.3), 0px 1px 3px 1px rgba(60, 64, 67, 0.15);\n",
              "      fill: #174EA6;\n",
              "    }\n",
              "\n",
              "    [theme=dark] .colab-df-convert {\n",
              "      background-color: #3B4455;\n",
              "      fill: #D2E3FC;\n",
              "    }\n",
              "\n",
              "    [theme=dark] .colab-df-convert:hover {\n",
              "      background-color: #434B5C;\n",
              "      box-shadow: 0px 1px 3px 1px rgba(0, 0, 0, 0.15);\n",
              "      filter: drop-shadow(0px 1px 2px rgba(0, 0, 0, 0.3));\n",
              "      fill: #FFFFFF;\n",
              "    }\n",
              "  </style>\n",
              "\n",
              "      <script>\n",
              "        const buttonEl =\n",
              "          document.querySelector('#df-4e853a46-76fc-4095-9fe8-2a95feb66bbf button.colab-df-convert');\n",
              "        buttonEl.style.display =\n",
              "          google.colab.kernel.accessAllowed ? 'block' : 'none';\n",
              "\n",
              "        async function convertToInteractive(key) {\n",
              "          const element = document.querySelector('#df-4e853a46-76fc-4095-9fe8-2a95feb66bbf');\n",
              "          const dataTable =\n",
              "            await google.colab.kernel.invokeFunction('convertToInteractive',\n",
              "                                                     [key], {});\n",
              "          if (!dataTable) return;\n",
              "\n",
              "          const docLinkHtml = 'Like what you see? Visit the ' +\n",
              "            '<a target=\"_blank\" href=https://colab.research.google.com/notebooks/data_table.ipynb>data table notebook</a>'\n",
              "            + ' to learn more about interactive tables.';\n",
              "          element.innerHTML = '';\n",
              "          dataTable['output_type'] = 'display_data';\n",
              "          await google.colab.output.renderOutput(dataTable, element);\n",
              "          const docLink = document.createElement('div');\n",
              "          docLink.innerHTML = docLinkHtml;\n",
              "          element.appendChild(docLink);\n",
              "        }\n",
              "      </script>\n",
              "    </div>\n",
              "  </div>\n",
              "  "
            ]
          },
          "metadata": {},
          "execution_count": 23
        }
      ]
    },
    {
      "cell_type": "markdown",
      "source": [
        "## Regression with Pipelines\n",
        "Now that we have done some EDA on our dataset, let's get to working with some models. For simplicty, we are going to implement a pipeline to help speed with setup for the regression. With the vast amount regression models in Sklearn, let's audition a large group before we move to a grid search with the top performers."
      ],
      "metadata": {
        "id": "i0auu_mD9OlV"
      }
    },
    {
      "cell_type": "code",
      "source": [
        "from sklearn.model_selection import train_test_split\n",
        "from sklearn.pipeline import Pipeline\n",
        "from sklearn.preprocessing import StandardScaler\n",
        "from sklearn.preprocessing import OneHotEncoder\n",
        "from sklearn.compose import ColumnTransformer\n",
        "from sklearn.neighbors import KNeighborsRegressor\n",
        "from sklearn.metrics import mean_squared_error\n",
        "from sklearn.tree import DecisionTreeRegressor\n",
        "from sklearn.linear_model import LinearRegression\n",
        "from sklearn.neural_network import MLPRegressor\n",
        "from sklearn.ensemble import RandomForestRegressor\n",
        "from sklearn.ensemble import GradientBoostingRegressor\n",
        "from sklearn.linear_model import SGDRegressor\n",
        "from sklearn.linear_model import BayesianRidge\n",
        "from sklearn.kernel_ridge import KernelRidge\n",
        "from sklearn.model_selection import GridSearchCV"
      ],
      "metadata": {
        "id": "OYmzPBnMA1sI"
      },
      "execution_count": null,
      "outputs": []
    },
    {
      "cell_type": "code",
      "source": [
        "# Set up the one hot encoding into a new data frame for regression\n",
        "games_pre_one_hot['opening_eco'] = games_pre_one_hot['opening_eco'].str[0]\n",
        "games_pre_one_hot['time_control'] = games_pre_one_hot['increment_code'].str.split('+').str[0].astype('int64')\n",
        "games_pre_one_hot['increment'] = games_pre_one_hot['increment_code'].str.split('+').str[-1].astype('int64')\n",
        "games_pre_one_hot = games_pre_one_hot.drop('increment_code', axis = 1)\n",
        "X_train, X_test, y_train, y_test = train_test_split(games_pre_one_hot.drop(columns = ['turns', 'id']), games_pre_one_hot['turns'], test_size=0.3)"
      ],
      "metadata": {
        "id": "SD1LcWQ-kS6k",
        "colab": {
          "base_uri": "https://localhost:8080/"
        },
        "outputId": "1f13ee67-f458-4545-fe12-8a2e12a61199"
      },
      "execution_count": null,
      "outputs": [
        {
          "output_type": "stream",
          "name": "stderr",
          "text": [
            "/usr/local/lib/python3.7/dist-packages/ipykernel_launcher.py:2: SettingWithCopyWarning: \n",
            "A value is trying to be set on a copy of a slice from a DataFrame.\n",
            "Try using .loc[row_indexer,col_indexer] = value instead\n",
            "\n",
            "See the caveats in the documentation: https://pandas.pydata.org/pandas-docs/stable/user_guide/indexing.html#returning-a-view-versus-a-copy\n",
            "  \n",
            "/usr/local/lib/python3.7/dist-packages/ipykernel_launcher.py:3: SettingWithCopyWarning: \n",
            "A value is trying to be set on a copy of a slice from a DataFrame.\n",
            "Try using .loc[row_indexer,col_indexer] = value instead\n",
            "\n",
            "See the caveats in the documentation: https://pandas.pydata.org/pandas-docs/stable/user_guide/indexing.html#returning-a-view-versus-a-copy\n",
            "  This is separate from the ipykernel package so we can avoid doing imports until\n",
            "/usr/local/lib/python3.7/dist-packages/ipykernel_launcher.py:4: SettingWithCopyWarning: \n",
            "A value is trying to be set on a copy of a slice from a DataFrame.\n",
            "Try using .loc[row_indexer,col_indexer] = value instead\n",
            "\n",
            "See the caveats in the documentation: https://pandas.pydata.org/pandas-docs/stable/user_guide/indexing.html#returning-a-view-versus-a-copy\n",
            "  after removing the cwd from sys.path.\n"
          ]
        }
      ]
    },
    {
      "cell_type": "code",
      "source": [
        "# One hot Encoding categorical columns, standardizing white and black rating and rating_diff\n",
        "\n",
        "categorical_cols = ['victory_status', 'rated', 'victory_status', 'winner', 'opening_eco']\n",
        "num_cols = ['white_rating', 'black_rating', 'rating_difference']\n",
        "cat_trans = Pipeline(steps = [('oh', OneHotEncoder())])\n",
        "num_trans = Pipeline(steps = [('scaler', StandardScaler())])\n",
        "preproc = ColumnTransformer([('categ', cat_trans, categorical_cols), \n",
        "                             ('num', num_trans, num_cols)])"
      ],
      "metadata": {
        "id": "-u_KLI64NoWh"
      },
      "execution_count": null,
      "outputs": []
    },
    {
      "cell_type": "code",
      "source": [
        "# Vanilla Linear Regression\n",
        "\n",
        "pl = Pipeline(steps = [('prep', preproc), ('regress', LinearRegression())])\n",
        "pl.fit(X_train, y_train)\n",
        "mean_squared_error(pl.predict(X_test), y_test)"
      ],
      "metadata": {
        "colab": {
          "base_uri": "https://localhost:8080/"
        },
        "id": "pw27AHwlGh3Q",
        "outputId": "c69420ce-ccdb-40a8-da60-992c63d70c14"
      },
      "execution_count": null,
      "outputs": [
        {
          "output_type": "execute_result",
          "data": {
            "text/plain": [
              "979.6320443469647"
            ]
          },
          "metadata": {},
          "execution_count": 27
        }
      ]
    },
    {
      "cell_type": "code",
      "source": [
        "# K-Nearest Neighbors Regression\n",
        "\n",
        "pl = Pipeline(steps = [('prep', preproc), ('regress', KNeighborsRegressor())])\n",
        "pl.fit(X_train, y_train)\n",
        "mean_squared_error(pl.predict(X_test), y_test)"
      ],
      "metadata": {
        "colab": {
          "base_uri": "https://localhost:8080/"
        },
        "id": "Y1Hjg4GwDYmk",
        "outputId": "6dd7eca0-4fc4-46f5-e959-3a1175f7a6eb"
      },
      "execution_count": null,
      "outputs": [
        {
          "output_type": "execute_result",
          "data": {
            "text/plain": [
              "1107.7287995614838"
            ]
          },
          "metadata": {},
          "execution_count": 28
        }
      ]
    },
    {
      "cell_type": "code",
      "source": [
        "# Decision Tree Regression\n",
        "\n",
        "pl = Pipeline(steps = [('prep', preproc), ('regress', DecisionTreeRegressor())])\n",
        "pl.fit(X_train, y_train)\n",
        "mean_squared_error(pl.predict(X_test), y_test)"
      ],
      "metadata": {
        "colab": {
          "base_uri": "https://localhost:8080/"
        },
        "id": "g8j6r2aNF_1c",
        "outputId": "9f6a4aa2-de62-4fa0-d7ca-49dfc6c9e760"
      },
      "execution_count": null,
      "outputs": [
        {
          "output_type": "execute_result",
          "data": {
            "text/plain": [
              "1818.3858998027008"
            ]
          },
          "metadata": {},
          "execution_count": 29
        }
      ]
    },
    {
      "cell_type": "code",
      "source": [
        "# Multi-Layer Percptron Regression\n",
        "# Takes time to run\n",
        "\n",
        "pl = Pipeline(steps = [('prep', preproc), ('regress', MLPRegressor())])\n",
        "pl.fit(X_train, y_train)\n",
        "mean_squared_error(pl.predict(X_test), y_test)"
      ],
      "metadata": {
        "colab": {
          "base_uri": "https://localhost:8080/"
        },
        "id": "3yRjoOiSGvm2",
        "outputId": "244d09c7-99e6-4e9a-956d-4c5f3d3ccc1d"
      },
      "execution_count": null,
      "outputs": [
        {
          "output_type": "stream",
          "name": "stderr",
          "text": [
            "/usr/local/lib/python3.7/dist-packages/sklearn/neural_network/_multilayer_perceptron.py:696: ConvergenceWarning: Stochastic Optimizer: Maximum iterations (200) reached and the optimization hasn't converged yet.\n",
            "  ConvergenceWarning,\n"
          ]
        },
        {
          "output_type": "execute_result",
          "data": {
            "text/plain": [
              "963.5950396639583"
            ]
          },
          "metadata": {},
          "execution_count": 30
        }
      ]
    },
    {
      "cell_type": "code",
      "source": [
        "# Random Forest Regression\n",
        "\n",
        "pl = Pipeline(steps = [('prep', preproc), ('regress', RandomForestRegressor())])\n",
        "pl.fit(X_train, y_train)\n",
        "mean_squared_error(pl.predict(X_test), y_test)"
      ],
      "metadata": {
        "colab": {
          "base_uri": "https://localhost:8080/"
        },
        "id": "2qSXLlSCGvpZ",
        "outputId": "839698ca-9119-4ceb-90a6-8e5ea4fb16aa"
      },
      "execution_count": null,
      "outputs": [
        {
          "output_type": "execute_result",
          "data": {
            "text/plain": [
              "990.4621691472963"
            ]
          },
          "metadata": {},
          "execution_count": 31
        }
      ]
    },
    {
      "cell_type": "code",
      "source": [
        "# Gradient Boosting Regression\n",
        "\n",
        "pl = Pipeline(steps = [('prep', preproc), ('regress', GradientBoostingRegressor())])\n",
        "pl.fit(X_train, y_train)\n",
        "mean_squared_error(pl.predict(X_test), y_test)"
      ],
      "metadata": {
        "id": "Nt1kEK5UGvrq",
        "colab": {
          "base_uri": "https://localhost:8080/"
        },
        "outputId": "04c3baaa-542c-4bee-c0c9-adf365b94c72"
      },
      "execution_count": null,
      "outputs": [
        {
          "output_type": "execute_result",
          "data": {
            "text/plain": [
              "958.666359990082"
            ]
          },
          "metadata": {},
          "execution_count": 32
        }
      ]
    },
    {
      "cell_type": "code",
      "source": [
        "# Stochastic Gradient Descent Regression\n",
        "\n",
        "pl = Pipeline(steps = [('prep', preproc), ('regress', SGDRegressor())])\n",
        "pl.fit(X_train, y_train)\n",
        "mean_squared_error(pl.predict(X_test), y_test)"
      ],
      "metadata": {
        "colab": {
          "base_uri": "https://localhost:8080/"
        },
        "id": "3U5vvxYeThhz",
        "outputId": "b87d2b66-38a7-40bd-cdfd-49e16966e011"
      },
      "execution_count": null,
      "outputs": [
        {
          "output_type": "execute_result",
          "data": {
            "text/plain": [
              "980.6958887970867"
            ]
          },
          "metadata": {},
          "execution_count": 33
        }
      ]
    },
    {
      "cell_type": "code",
      "source": [
        "# Bayesian Ridge Regression\n",
        "\n",
        "pl = Pipeline(steps = [('prep', preproc), ('regress', BayesianRidge())])\n",
        "pl.fit(X_train, y_train)\n",
        "mean_squared_error(pl.predict(X_test), y_test)"
      ],
      "metadata": {
        "colab": {
          "base_uri": "https://localhost:8080/"
        },
        "id": "uMRsGzLYUUIR",
        "outputId": "64f30baf-4d35-4c0f-aab7-9b16d2b6db65"
      },
      "execution_count": null,
      "outputs": [
        {
          "output_type": "execute_result",
          "data": {
            "text/plain": [
              "979.768375226962"
            ]
          },
          "metadata": {},
          "execution_count": 34
        }
      ]
    },
    {
      "cell_type": "code",
      "source": [
        "# Kernel Ridge Regression\n",
        "\n",
        "pl = Pipeline(steps = [('prep', preproc), ('regress', KernelRidge())])\n",
        "pl.fit(X_train, y_train)\n",
        "mean_squared_error(pl.predict(X_test), y_test)"
      ],
      "metadata": {
        "colab": {
          "base_uri": "https://localhost:8080/"
        },
        "id": "DwcpYMU7UjGJ",
        "outputId": "9ef0ac80-b770-4174-9647-6ae74e3dde07"
      },
      "execution_count": null,
      "outputs": [
        {
          "output_type": "execute_result",
          "data": {
            "text/plain": [
              "979.5412170183897"
            ]
          },
          "metadata": {},
          "execution_count": 35
        }
      ]
    },
    {
      "cell_type": "markdown",
      "source": [
        "## Grid Search"
      ],
      "metadata": {
        "id": "XF8iFIhBfF1W"
      }
    },
    {
      "cell_type": "markdown",
      "source": [
        "Out of all our different methods used above, the two best performing were the Multi-layer Perceptron and Gradient Boosting. Let's run a grid search on these two and see how much better of a result we can get."
      ],
      "metadata": {
        "id": "znxOYkwOgeFG"
      }
    },
    {
      "cell_type": "code",
      "source": [
        "# MLP Grid Search\n",
        "param_list = {\n",
        "  'regress__hidden_layer_sizes' : [(50,), (100,), (150,), (200,)]\n",
        "}\n",
        "\n",
        "pl = Pipeline(steps = [('prep', preproc), ('regress', MLPRegressor())])\n",
        "grids = GridSearchCV(pl, param_grid = param_list, cv = 3, return_train_score = True, scoring = 'neg_mean_absolute_error', n_jobs = -1)\n",
        "grids.fit(X_train, y_train)\n",
        "grids.best_params_"
      ],
      "metadata": {
        "colab": {
          "base_uri": "https://localhost:8080/"
        },
        "id": "uOM8PB-EfEqI",
        "outputId": "178e87a3-2313-4a89-f97f-5460bf97401e"
      },
      "execution_count": null,
      "outputs": [
        {
          "output_type": "stream",
          "name": "stderr",
          "text": [
            "/usr/local/lib/python3.7/dist-packages/sklearn/neural_network/_multilayer_perceptron.py:696: ConvergenceWarning: Stochastic Optimizer: Maximum iterations (200) reached and the optimization hasn't converged yet.\n",
            "  ConvergenceWarning,\n"
          ]
        },
        {
          "output_type": "execute_result",
          "data": {
            "text/plain": [
              "{'regress__hidden_layer_sizes': (100,)}"
            ]
          },
          "metadata": {},
          "execution_count": 38
        }
      ]
    },
    {
      "cell_type": "code",
      "source": [
        "# Refit with the best parameter combo returned from grid search\n",
        "pl = Pipeline(steps = [('prep', preproc), ('regress', MLPRegressor(hidden_layer_sizes = (100,)))])\n",
        "pl.fit(X_train, y_train)\n",
        "mean_squared_error(pl.predict(X_test), y_test)"
      ],
      "metadata": {
        "colab": {
          "base_uri": "https://localhost:8080/"
        },
        "id": "K0Ct-PVmvZu2",
        "outputId": "1e00ed60-77ad-4f9f-d25e-93d0e33c2bf4"
      },
      "execution_count": null,
      "outputs": [
        {
          "output_type": "stream",
          "name": "stderr",
          "text": [
            "/usr/local/lib/python3.7/dist-packages/sklearn/neural_network/_multilayer_perceptron.py:696: ConvergenceWarning: Stochastic Optimizer: Maximum iterations (200) reached and the optimization hasn't converged yet.\n",
            "  ConvergenceWarning,\n"
          ]
        },
        {
          "output_type": "execute_result",
          "data": {
            "text/plain": [
              "965.9618859514036"
            ]
          },
          "metadata": {},
          "execution_count": 39
        }
      ]
    },
    {
      "cell_type": "code",
      "source": [
        "# Gradient Boosting Grid Search\n",
        "param_list = {\n",
        "  'regress__max_depth' : [3, 4, 5],\n",
        "  'regress__min_samples_split' : [2, 3, 4]\n",
        "}\n",
        "\n",
        "pl = Pipeline(steps = [('prep', preproc), ('regress', GradientBoostingRegressor())])\n",
        "grids = GridSearchCV(pl, param_grid = param_list, cv = 3, return_train_score = True, scoring = 'neg_mean_absolute_error', n_jobs = -1)\n",
        "grids.fit(X_train, y_train)\n",
        "grids.best_params_"
      ],
      "metadata": {
        "colab": {
          "base_uri": "https://localhost:8080/"
        },
        "id": "kNK15rdTgwHr",
        "outputId": "8d72442d-877b-4fb6-f201-14cbaaccb6fe"
      },
      "execution_count": null,
      "outputs": [
        {
          "output_type": "execute_result",
          "data": {
            "text/plain": [
              "{'regress__max_depth': 3, 'regress__min_samples_split': 4}"
            ]
          },
          "metadata": {},
          "execution_count": 40
        }
      ]
    },
    {
      "cell_type": "code",
      "source": [
        "# Refit with the best parameter combo returned from grid search\n",
        "pl = Pipeline(steps = [('prep', preproc), ('regress', GradientBoostingRegressor(max_depth = 3, min_samples_split = 4))])\n",
        "pl.fit(X_train, y_train)\n",
        "mean_squared_error(pl.predict(X_test), y_test)"
      ],
      "metadata": {
        "colab": {
          "base_uri": "https://localhost:8080/"
        },
        "id": "IyvLfj4TvP9S",
        "outputId": "fdd9cffc-b11d-41f3-f4eb-ed196e499b1b"
      },
      "execution_count": null,
      "outputs": [
        {
          "output_type": "execute_result",
          "data": {
            "text/plain": [
              "958.4328315860093"
            ]
          },
          "metadata": {},
          "execution_count": 42
        }
      ]
    },
    {
      "cell_type": "markdown",
      "source": [
        "From the grid searching performed, we can see a slight improvement in MSE of Gradient Boosting. This further soldifies Gradient Boosting as the best model of the bunch.\n",
        "\n",
        "\n"
      ],
      "metadata": {
        "id": "AwXlZcWqfFQO"
      }
    },
    {
      "cell_type": "markdown",
      "source": [
        "# Discussion\n"
      ],
      "metadata": {
        "id": "r_J2ApxSvIYy"
      }
    },
    {
      "cell_type": "markdown",
      "source": [
        "## Interpreting the result\n",
        "Our results are inconclusive at best. While our testing has proved that predicting game length from categorical factors like rating and opening is indeed a regressable relationship, even our most accurate method using Gradient Boosting leaves something to be desired with a MSE of 958.43. That being said, determining a single best algorithm for the task is a huge step in the right direction.\n",
        "\n",
        "Of course, chess is a game where people have to make constant choices, going well beyond which opening they use. For that reason, a high error for predicting the length of a game is expected, except for maybe the highest level of play where players more frequently make moves proven to be optimal given the situation their respective openings have led them to. With that in mind, an MSE of 958, predicting across all ratings and therefore skill levels, is better than anticipated - additional testing is definitely in order here.\n",
        "\n",
        "In subsequent studies we would hopefully have the computational power to search through even more Gradient Boosting hyperparameters, for starters. Additionally, some of the predicting variables may not have been as arbitrary as we'd initially thought, so gradual reinclusion may or may not help in minimizing prediction error. In its current state, our algorithm cannot assist in the problem of tournament schedule or livestream planning as we'd set out to do."
      ],
      "metadata": {
        "id": "sP93EJWzN5a1"
      }
    },
    {
      "cell_type": "markdown",
      "source": [
        "## Limitations\n",
        "Once we got to grid searching, we unfournately ran into some limitations with computation power and time. Espcially with Multi-layer Percptrons, there are so many different hyperparamters that are able to be tweaked that we simply lacked the resouces to test them all. Even we tried smaller combinations, Google Colab still timed us for the cell taking too long to run."
      ],
      "metadata": {
        "id": "wK7YGNiFN8uC"
      }
    },
    {
      "cell_type": "markdown",
      "source": [
        "## Ethics & Privacy\n",
        "One potential privacy issue with this project lies in the way the data is collected. This is true for all web-scrape type data, but we essentially use harvested user data, complete with usernames and other user information, from which the users have not explicitly agreed to our (or any other programmer's) direct usage of, apart from the general agreements of Lichess's Terms of Service. These data entries include a data and time for each and every game played, so it is a little troubling that we have (reductively) a record of what these players were doing at a given time on a given day.\n",
        "  \n",
        "  It should also be noted that the majority of new-age chess players learn by playing different AI chess \"bots\". The implication of this is that whatever outcomes these programs find preferable directly influence what the most common options will be for real human chess players. Whether this fact is unethical in itself is up for debate, but it's undeniable that AI programs have computationalized and flow-charted the game of chess pretty irreversibly."
      ],
      "metadata": {
        "id": "B4vcmX1TN--J"
      }
    },
    {
      "cell_type": "markdown",
      "source": [
        "## Conclusion\n",
        "With so much computational work already done on predicting the outcome of a chess game, we found it high time for research dedicated to predicting game length itself. Time is money, after all, and being able to predict how much time would be spent on a game of chess after the opening moves would certainly prove to be valuable.\n",
        "\n",
        "While we weren't able to predict with anything close to pinpoint accuracy, as expected, we have identified a definitive approach to the question, and would likely be able to improve accuracy with additional computational resources.\n",
        "\n",
        "All in all, this project alone didn't produce anything conclusive, but rather has left us with crucial information to take going forward - the proper algorithm to employ, as well as new questions about optimal hyperparameters and variables of prediction. This is but a small contribution to the massive, ever-expanding sphere of computationalizing the game of chess."
      ],
      "metadata": {
        "id": "H0f_oJl4OH1K"
      }
    },
    {
      "cell_type": "markdown",
      "source": [
        "# Footnotes\n",
        "<a name=\"elo\"></a>1.[^](#lorenz): ELO Rating Chess. https://www.chess.com/terms/elo-rating-chess<br> \n",
        "<a name=\"elo2\"></a>2.[^](#admonish): Lichess rating system. https://lichess.org/page/rating-systems#:~:text=Lichess%20ratings%20start%20at%201500,as%20FIDE%20or%20chess.com.<br>\n",
        "<a name=\"research\"></a>3.[^](#sota): Chess Research: https://towardsdatascience.com/predicting-professional-players-chess-moves-with-deep-learning-9de6e305109e<br>\n",
        "<a name=\"4\"></a>4.[^](#sota): Outcome of a game: https://cs229.stanford.edu/proj2013/FanKuangLin-ChessGameResultPredictionSystem.pdf\n"
      ],
      "metadata": {
        "id": "1c2PHeQGplKM"
      }
    }
  ]
}